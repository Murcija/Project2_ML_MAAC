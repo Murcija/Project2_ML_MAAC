{
 "cells": [
  {
   "cell_type": "code",
   "execution_count": 1,
   "id": "91a3132d",
   "metadata": {},
   "outputs": [],
   "source": [
    "# importar paquetes y darles alias\n",
    "from mpl_toolkits.mplot3d import Axes3D\n",
    "from sklearn.preprocessing import StandardScaler\n",
    "import matplotlib.pyplot as plt # plotting\n",
    "import numpy as np # linear algebra\n",
    "import os # accessing directory structure\n",
    "import pandas as pd # data processing, CSV file I/O (e.g. pd.read_csv)\n",
    "import seaborn as sns\n",
    "import plotly.express as px\n",
    "import statistics\n",
    "import statsmodels.api as sm\n",
    "from scipy import stats\n",
    "from sklearn.neighbors import KNeighborsClassifier"
   ]
  },
  {
   "cell_type": "markdown",
   "id": "28ffbd3f",
   "metadata": {},
   "source": [
    "Realizamos la importación del dataset de calidad de la leche:"
   ]
  },
  {
   "cell_type": "markdown",
   "id": "d2c5e0cf",
   "metadata": {},
   "source": [
    "# Análisis exploratorio de datos"
   ]
  },
  {
   "cell_type": "markdown",
   "id": "5e44fcf7",
   "metadata": {},
   "source": [
    "El conjunto de datos consiste en 1058 muestras de leche con 7 características que describen sus diferentes propiedades químicas"
   ]
  },
  {
   "cell_type": "code",
   "execution_count": 32,
   "id": "fa340e6f",
   "metadata": {
    "scrolled": false
   },
   "outputs": [],
   "source": [
    "df = pd.read_csv('/Users/josealbertomurcia/OneDrive/Documentos/jose/Training/Maestria Rosario 2021/Aprendizaje de Maquinas/Borrador Milk/Milk Grading (1).csv')"
   ]
  },
  {
   "cell_type": "code",
   "execution_count": 33,
   "id": "299cd318",
   "metadata": {
    "scrolled": false
   },
   "outputs": [
    {
     "data": {
      "text/html": [
       "<div>\n",
       "<style scoped>\n",
       "    .dataframe tbody tr th:only-of-type {\n",
       "        vertical-align: middle;\n",
       "    }\n",
       "\n",
       "    .dataframe tbody tr th {\n",
       "        vertical-align: top;\n",
       "    }\n",
       "\n",
       "    .dataframe thead th {\n",
       "        text-align: right;\n",
       "    }\n",
       "</style>\n",
       "<table border=\"1\" class=\"dataframe\">\n",
       "  <thead>\n",
       "    <tr style=\"text-align: right;\">\n",
       "      <th></th>\n",
       "      <th>pH</th>\n",
       "      <th>Temprature</th>\n",
       "      <th>Taste</th>\n",
       "      <th>Odor</th>\n",
       "      <th>Fat</th>\n",
       "      <th>Turbidity</th>\n",
       "      <th>Colour</th>\n",
       "      <th>Grade</th>\n",
       "    </tr>\n",
       "  </thead>\n",
       "  <tbody>\n",
       "    <tr>\n",
       "      <th>0</th>\n",
       "      <td>6.6</td>\n",
       "      <td>35</td>\n",
       "      <td>1</td>\n",
       "      <td>0</td>\n",
       "      <td>1</td>\n",
       "      <td>0</td>\n",
       "      <td>254</td>\n",
       "      <td>1.0</td>\n",
       "    </tr>\n",
       "    <tr>\n",
       "      <th>1</th>\n",
       "      <td>6.6</td>\n",
       "      <td>36</td>\n",
       "      <td>0</td>\n",
       "      <td>1</td>\n",
       "      <td>0</td>\n",
       "      <td>1</td>\n",
       "      <td>253</td>\n",
       "      <td>1.0</td>\n",
       "    </tr>\n",
       "    <tr>\n",
       "      <th>2</th>\n",
       "      <td>8.5</td>\n",
       "      <td>70</td>\n",
       "      <td>1</td>\n",
       "      <td>1</td>\n",
       "      <td>1</td>\n",
       "      <td>1</td>\n",
       "      <td>246</td>\n",
       "      <td>0.0</td>\n",
       "    </tr>\n",
       "    <tr>\n",
       "      <th>3</th>\n",
       "      <td>9.5</td>\n",
       "      <td>34</td>\n",
       "      <td>1</td>\n",
       "      <td>1</td>\n",
       "      <td>0</td>\n",
       "      <td>1</td>\n",
       "      <td>255</td>\n",
       "      <td>0.0</td>\n",
       "    </tr>\n",
       "    <tr>\n",
       "      <th>4</th>\n",
       "      <td>6.6</td>\n",
       "      <td>37</td>\n",
       "      <td>0</td>\n",
       "      <td>0</td>\n",
       "      <td>0</td>\n",
       "      <td>0</td>\n",
       "      <td>255</td>\n",
       "      <td>0.5</td>\n",
       "    </tr>\n",
       "  </tbody>\n",
       "</table>\n",
       "</div>"
      ],
      "text/plain": [
       "    pH  Temprature  Taste  Odor  Fat   Turbidity  Colour  Grade\n",
       "0  6.6          35      1     0     1          0     254    1.0\n",
       "1  6.6          36      0     1     0          1     253    1.0\n",
       "2  8.5          70      1     1     1          1     246    0.0\n",
       "3  9.5          34      1     1     0          1     255    0.0\n",
       "4  6.6          37      0     0     0          0     255    0.5"
      ]
     },
     "execution_count": 33,
     "metadata": {},
     "output_type": "execute_result"
    }
   ],
   "source": [
    "df.head()"
   ]
  },
  {
   "cell_type": "code",
   "execution_count": 36,
   "id": "5678c03c",
   "metadata": {
    "scrolled": false
   },
   "outputs": [
    {
     "name": "stdout",
     "output_type": "stream",
     "text": [
      "Grados de calidad [0.  0.5 1. ]\n"
     ]
    }
   ],
   "source": [
    "print('Grados de calidad', np.unique(df['Grade']))"
   ]
  },
  {
   "cell_type": "markdown",
   "id": "b186bad2",
   "metadata": {},
   "source": [
    "Las muestras pertenecen a una de las tres clases distintas de leche que se refieren a la calidad de la leche asigando el valor de cero (0.) a  leche de mala calidad, (0.5) a leche de calidad moderada y (1.) a leche de buena calidad. "
   ]
  },
  {
   "cell_type": "code",
   "execution_count": 236,
   "id": "cfb95635",
   "metadata": {},
   "outputs": [
    {
     "name": "stdout",
     "output_type": "stream",
     "text": [
      "Min:  34\n",
      "Max:  90\n",
      "Media/promedio:  44.226628895184135\n",
      "Mediana:  41.0\n"
     ]
    }
   ],
   "source": [
    "# Determinando los valores mínimos, máximos, media y mediana para la variable Temprature\n",
    "\n",
    "print(\"Min: \", df[\"Temprature\"].min())\n",
    "print(\"Max: \", df[\"Temprature\"].max())\n",
    "print(\"Media/promedio: \", df[\"Temprature\"].mean())\n",
    "print(\"Mediana: \", df[\"Temprature\"].median())"
   ]
  },
  {
   "cell_type": "code",
   "execution_count": 237,
   "id": "77d9e7b2",
   "metadata": {},
   "outputs": [
    {
     "name": "stdout",
     "output_type": "stream",
     "text": [
      "Min:  3.0\n",
      "Max:  9.5\n",
      "Media/promedio:  6.630122757318263\n",
      "Mediana:  6.7\n"
     ]
    }
   ],
   "source": [
    "# Determinando los valores mínimos, máximos, media y mediana para la variable pH\n",
    "\n",
    "print(\"Min: \", df[\"pH\"].min())\n",
    "print(\"Max: \", df[\"pH\"].max())\n",
    "print(\"Media/promedio: \", df[\"pH\"].mean())\n",
    "print(\"Mediana: \", df[\"pH\"].median())"
   ]
  },
  {
   "cell_type": "code",
   "execution_count": 239,
   "id": "9643c4c8",
   "metadata": {
    "scrolled": true
   },
   "outputs": [
    {
     "data": {
      "application/vnd.plotly.v1+json": {
       "config": {
        "plotlyServerURL": "https://plot.ly"
       },
       "data": [
        {
         "alignmentgroup": "True",
         "box": {
          "visible": true
         },
         "hovertemplate": "pH=%{y}<extra></extra>",
         "legendgroup": "",
         "marker": {
          "color": "#636efa"
         },
         "name": "",
         "offsetgroup": "",
         "orientation": "v",
         "points": "all",
         "scalegroup": "True",
         "showlegend": false,
         "type": "violin",
         "x0": " ",
         "xaxis": "x",
         "y": [
          6.6,
          6.6,
          8.5,
          9.5,
          6.6,
          6.6,
          5.5,
          4.5,
          8.1,
          6.7,
          6.7,
          5.6,
          8.6,
          7.4,
          6.8,
          6.5,
          4.7,
          3,
          9,
          6.8,
          6.6,
          6.5,
          4.5,
          6.6,
          6.8,
          6.5,
          8.5,
          6.6,
          6.5,
          6.6,
          6.4,
          6.5,
          6.8,
          6.7,
          6.7,
          6.8,
          8.6,
          7.4,
          6.8,
          6.5,
          6.8,
          3,
          9,
          6.8,
          6.6,
          6.5,
          6.6,
          6.8,
          9.5,
          6.5,
          6.6,
          5.5,
          4.5,
          8.1,
          6.7,
          6.7,
          5.6,
          8.6,
          7.4,
          6.8,
          6.5,
          6.7,
          3,
          9,
          8.6,
          6.8,
          6.8,
          6.5,
          4.7,
          3,
          9,
          6.8,
          6.6,
          6.5,
          4.5,
          6.8,
          6.5,
          6.8,
          8.5,
          6.8,
          6.5,
          6.6,
          6.8,
          7.4,
          6.8,
          6.5,
          6.6,
          3,
          9,
          6.8,
          6.6,
          6.5,
          6.6,
          6.8,
          9.5,
          6.5,
          9.5,
          6.5,
          6.6,
          5.5,
          4.5,
          8.1,
          6.7,
          6.7,
          5.6,
          6.6,
          7.4,
          6.8,
          6.5,
          6.7,
          3,
          6.6,
          8.6,
          6.8,
          6.8,
          6.5,
          6.6,
          3,
          9,
          6.8,
          6.6,
          6.5,
          6.6,
          6.8,
          6.5,
          6.8,
          8.5,
          6.8,
          6.6,
          6.5,
          4.5,
          6.8,
          6.5,
          6.8,
          8.5,
          6.8,
          6.5,
          6.6,
          6.8,
          7.4,
          6.8,
          6.5,
          6.6,
          3,
          9,
          6.8,
          6.6,
          6.5,
          6.6,
          6.8,
          9.5,
          6.5,
          9.5,
          6.5,
          6.6,
          5.5,
          4.5,
          8.1,
          6.7,
          6.7,
          5.6,
          6.6,
          7.4,
          6.8,
          6.5,
          6.7,
          6.7,
          6.8,
          8.6,
          7.4,
          6.8,
          6.5,
          6.8,
          3,
          9,
          6.8,
          6.6,
          6.5,
          6.6,
          6.8,
          9.5,
          6.5,
          6.6,
          5.5,
          4.5,
          8.1,
          6.7,
          6.7,
          5.6,
          8.6,
          7.4,
          6.8,
          6.5,
          6.7,
          3,
          9,
          8.6,
          6.8,
          6.8,
          6.5,
          4.7,
          3,
          9,
          6.8,
          6.5,
          6.6,
          5.5,
          4.5,
          8.1,
          6.7,
          6.7,
          5.6,
          8.6,
          7.4,
          6.8,
          6.5,
          6.7,
          3,
          9,
          8.6,
          6.8,
          6.8,
          6.5,
          4.7,
          3,
          9,
          6.8,
          6.6,
          6.5,
          4.5,
          6.8,
          6.5,
          6.8,
          8.5,
          6.8,
          6.5,
          6.6,
          6.8,
          7.4,
          6.8,
          6.5,
          6.6,
          3,
          9,
          6.5,
          6.7,
          3,
          6.6,
          8.6,
          6.8,
          6.8,
          6.5,
          6.6,
          3,
          9,
          6.8,
          6.6,
          6.5,
          6.6,
          6.8,
          6.5,
          6.8,
          8.5,
          6.8,
          6.6,
          6.5,
          4.5,
          6.8,
          6.5,
          6.8,
          8.5,
          6.8,
          9,
          6.8,
          6.6,
          6.5,
          6.6,
          6.8,
          9.5,
          6.5,
          9.5,
          6.5,
          6.6,
          5.5,
          4.5,
          8.1,
          6.7,
          6.7,
          5.6,
          6.6,
          7.4,
          6.8,
          6.5,
          6.7,
          6.7,
          6.8,
          8.6,
          7.4,
          6.8,
          6.5,
          6.8,
          3,
          9,
          6.8,
          6.6,
          6.5,
          6.6,
          6.8,
          9.5,
          6.5,
          6.6,
          5.5,
          4.5,
          8.1,
          6.7,
          6.7,
          5.6,
          8.6,
          7.4,
          6.8,
          6.5,
          6.7,
          3,
          9,
          8.6,
          6.8,
          6.8,
          6.5,
          4.7,
          3,
          9,
          6.8,
          6.5,
          6.6,
          5.5,
          4.5,
          8.1,
          6.7,
          6.7,
          5.6,
          8.6,
          7.4,
          6.8,
          6.5,
          6.7,
          3,
          9,
          8.6,
          6.8,
          6.8,
          6.5,
          4.7,
          3,
          9,
          6.8,
          6.6,
          6.5,
          4.5,
          6.8,
          6.5,
          6.8,
          8.5,
          6.8,
          6.5,
          6.6,
          6.8,
          7.4,
          6.8,
          6.5,
          6.6,
          3,
          9,
          6.5,
          6.7,
          3,
          6.6,
          8.6,
          6.8,
          6.8,
          6.5,
          6.6,
          3,
          9,
          6.8,
          6.6,
          6.5,
          6.8,
          6.5,
          4.7,
          3,
          9,
          6.8,
          6.6,
          6.5,
          4.5,
          6.8,
          6.5,
          6.8,
          8.5,
          6.8,
          6.5,
          6.6,
          6.8,
          7.4,
          6.8,
          6.5,
          6.6,
          3,
          9,
          6.8,
          6.6,
          6.5,
          6.6,
          6.8,
          9.5,
          6.5,
          9.5,
          6.5,
          6.6,
          5.5,
          4.5,
          8.1,
          6.7,
          6.7,
          5.6,
          6.6,
          7.4,
          6.8,
          6.5,
          6.7,
          3,
          6.6,
          8.6,
          6.8,
          6.8,
          6.5,
          6.6,
          3,
          9,
          6.8,
          6.6,
          6.5,
          6.6,
          6.8,
          6.5,
          6.8,
          8.5,
          6.8,
          6.6,
          6.5,
          4.5,
          6.8,
          6.5,
          6.8,
          8.5,
          6.6,
          6.8,
          9.5,
          6.5,
          9.5,
          6.5,
          6.6,
          5.5,
          4.5,
          8.1,
          6.7,
          6.7,
          5.6,
          6.6,
          7.4,
          6.8,
          6.5,
          6.7,
          3,
          6.6,
          8.6,
          6.8,
          6.8,
          6.5,
          6.6,
          3,
          9,
          6.8,
          6.6,
          6.5,
          6.6,
          6.8,
          6.5,
          6.8,
          8.5,
          6.8,
          6.6,
          6.5,
          4.5,
          6.8,
          6.5,
          6.8,
          8.5,
          6.8,
          6.5,
          6.6,
          6.8,
          7.4,
          6.8,
          6.5,
          6.6,
          3,
          9,
          6.8,
          6.6,
          6.5,
          6.6,
          6.8,
          9.5,
          6.5,
          9.5,
          6.5,
          6.6,
          5.5,
          4.5,
          8.1,
          6.7,
          6.7,
          5.6,
          6.6,
          7.4,
          6.8,
          6.5,
          6.7,
          6.7,
          6.8,
          6.6,
          7.4,
          6.8,
          6.5,
          6.8,
          3,
          9,
          6.8,
          6.6,
          6.5,
          6.6,
          6.8,
          9.5,
          6.5,
          6.6,
          5.5,
          6.5,
          8.1,
          6.7,
          6.7,
          3,
          6.8,
          8.6,
          6.8,
          6.8,
          6.5,
          4.7,
          3,
          9,
          6.8,
          6.6,
          6.5,
          4.5,
          6.8,
          6.5,
          6.8,
          8.5,
          6.8,
          6.5,
          6.6,
          6.8,
          7.4,
          6.8,
          6.5,
          6.6,
          6.6,
          9,
          6.5,
          6.7,
          3,
          6.6,
          6.8,
          6.5,
          6.6,
          3,
          9,
          6.8,
          6.6,
          6.5,
          6.6,
          6.8,
          9.5,
          6.5,
          9.5,
          6.5,
          6.6,
          5.5,
          4.5,
          8.1,
          6.7,
          6.7,
          5.6,
          6.6,
          7.4,
          6.8,
          6.5,
          6.7,
          6.7,
          6.8,
          6.6,
          7.4,
          6.8,
          6.5,
          6.8,
          3,
          9,
          6.8,
          6.6,
          6.5,
          6.6,
          6.8,
          9.5,
          6.5,
          6.6,
          5.5,
          6.5,
          8.1,
          6.7,
          6.7,
          3,
          6.8,
          8.6,
          6.8,
          6.8,
          6.5,
          4.7,
          3,
          9,
          6.8,
          6.6,
          6.5,
          4.5,
          6.8,
          6.5,
          6.8,
          8.5,
          6.8,
          6.5,
          6.6,
          6.8,
          7.4,
          6.8,
          6.5,
          6.6,
          6.7,
          3,
          9,
          8.6,
          6.8,
          6.8,
          6.5,
          4.7,
          3,
          9,
          6.8,
          6.5,
          6.6,
          5.5,
          4.5,
          8.1,
          6.7,
          6.7,
          5.6,
          8.6,
          7.4,
          6.8,
          6.5,
          6.7,
          3,
          9,
          8.6,
          6.8,
          6.8,
          6.5,
          4.7,
          3,
          9,
          6.8,
          6.6,
          6.5,
          4.5,
          6.8,
          6.5,
          6.8,
          8.5,
          6.8,
          6.5,
          6.6,
          6.8,
          7.4,
          6.8,
          6.5,
          6.6,
          3,
          9,
          6.5,
          6.7,
          3,
          6.6,
          8.6,
          6.8,
          6.8,
          6.5,
          6.6,
          3,
          9,
          6.8,
          6.6,
          6.5,
          6.8,
          6.5,
          4.7,
          3,
          9,
          6.8,
          6.6,
          6.5,
          4.5,
          6.8,
          5.5,
          4.5,
          8.1,
          6.7,
          6.7,
          5.6,
          6.6,
          7.4,
          6.8,
          6.5,
          6.7,
          6.7,
          6.8,
          8.6,
          7.4,
          6.8,
          6.5,
          6.8,
          3,
          9,
          6.8,
          6.6,
          6.5,
          6.6,
          6.8,
          9.5,
          6.5,
          6.6,
          5.5,
          4.5,
          8.1,
          6.7,
          6.7,
          5.6,
          8.6,
          7.4,
          6.8,
          6.5,
          6.7,
          3,
          9,
          8.6,
          6.8,
          6.8,
          6.5,
          4.7,
          3,
          9,
          6.8,
          6.5,
          6.6,
          5.5,
          4.5,
          8.1,
          6.7,
          6.7,
          5.6,
          8.6,
          7.4,
          6.8,
          6.5,
          6.7,
          3,
          9,
          8.6,
          6.8,
          6.8,
          6.5,
          4.7,
          3,
          9,
          6.8,
          6.6,
          6.5,
          4.5,
          6.8,
          6.5,
          6.8,
          8.5,
          6.8,
          6.5,
          6.6,
          6.8,
          7.4,
          6.8,
          6.5,
          6.6,
          3,
          9,
          6.5,
          6.7,
          6.6,
          6.6,
          8.6,
          6.8,
          6.8,
          6.5,
          6.6,
          3,
          9,
          6.8,
          6.6,
          6.5,
          6.8,
          6.5,
          4.7,
          3,
          9,
          6.8,
          6.6,
          6.5,
          4.5,
          6.8,
          6.5,
          6.8,
          8.5,
          6.8,
          6.5,
          6.6,
          6.8,
          7.4,
          6.8,
          6.5,
          6.6,
          3,
          9,
          6.8,
          6.6,
          6.5,
          6.6,
          6.8,
          6.6,
          9,
          6.8,
          6.6,
          6.5,
          6.6,
          6.8,
          9.5,
          6.5,
          6.6,
          5.5,
          6.5,
          8.1,
          6.7,
          6.7,
          3,
          6.8,
          8.6,
          6.8,
          6.8,
          6.5,
          4.7,
          6.6,
          9,
          6.8,
          6.6,
          6.5,
          4.5,
          6.8,
          6.5,
          6.6,
          6.8,
          7.4,
          6.8,
          6.5,
          6.6,
          6.7,
          3,
          6.6,
          8.6,
          6.8,
          6.8,
          6.5,
          4.7,
          3,
          9,
          6.8,
          6.5,
          6.6,
          5.5,
          6.5,
          8.1,
          6.7,
          6.7,
          5.6,
          8.6,
          6.7,
          6.7,
          6.8,
          8.6,
          7.4,
          6.8,
          6.5,
          6.8,
          3,
          9,
          6.8,
          6.6,
          6.5,
          6.6,
          6.8,
          9.5,
          6.5,
          6.6,
          5.5,
          4.5,
          8.1,
          6.7,
          6.7,
          5.6,
          8.6,
          6.6,
          9,
          6.8,
          6.6,
          6.5,
          4.5,
          6.8,
          6.5,
          6.8,
          8.5,
          6.8,
          6.5,
          6.6,
          6.8,
          7.4,
          6.8,
          6.5,
          6.6,
          3,
          9,
          6.5,
          6.7,
          3,
          6.6,
          8.6,
          6.5,
          8.1,
          6.7,
          6.7,
          3,
          6.8,
          8.6,
          6.8,
          6.8,
          6.5,
          4.7,
          3,
          9,
          6.8,
          6.6,
          6.5,
          4.5,
          6.8,
          6.5,
          6.8,
          8.5,
          6.8,
          6.5,
          6.6,
          6.8,
          7.4,
          6.8,
          6.5,
          6.6,
          6.7,
          3,
          6.6,
          8.6,
          6.8,
          6.8,
          6.5,
          4.7,
          3,
          9,
          6.8,
          6.5,
          3,
          9,
          6.8,
          6.6,
          6.5,
          6.8,
          6.5,
          4.7,
          3,
          9,
          6.8,
          6.6,
          6.5,
          4.5,
          6.8,
          6.5,
          6.8,
          8.5,
          6.8,
          6.5,
          6.6,
          6.8,
          7.4,
          6.8,
          6.5,
          6.6,
          3,
          9,
          6.8,
          6.6,
          6.5,
          6.6,
          6.8,
          6.6,
          9,
          6.8,
          6.6,
          6.5,
          6.6,
          6.8,
          9.5,
          6.5,
          6.6,
          5.5,
          6.5,
          8.1,
          6.7,
          6.7,
          3,
          6.8,
          8.6
         ],
         "y0": " ",
         "yaxis": "y"
        }
       ],
       "layout": {
        "legend": {
         "tracegroupgap": 0
        },
        "margin": {
         "t": 60
        },
        "template": {
         "data": {
          "bar": [
           {
            "error_x": {
             "color": "#2a3f5f"
            },
            "error_y": {
             "color": "#2a3f5f"
            },
            "marker": {
             "line": {
              "color": "#E5ECF6",
              "width": 0.5
             },
             "pattern": {
              "fillmode": "overlay",
              "size": 10,
              "solidity": 0.2
             }
            },
            "type": "bar"
           }
          ],
          "barpolar": [
           {
            "marker": {
             "line": {
              "color": "#E5ECF6",
              "width": 0.5
             },
             "pattern": {
              "fillmode": "overlay",
              "size": 10,
              "solidity": 0.2
             }
            },
            "type": "barpolar"
           }
          ],
          "carpet": [
           {
            "aaxis": {
             "endlinecolor": "#2a3f5f",
             "gridcolor": "white",
             "linecolor": "white",
             "minorgridcolor": "white",
             "startlinecolor": "#2a3f5f"
            },
            "baxis": {
             "endlinecolor": "#2a3f5f",
             "gridcolor": "white",
             "linecolor": "white",
             "minorgridcolor": "white",
             "startlinecolor": "#2a3f5f"
            },
            "type": "carpet"
           }
          ],
          "choropleth": [
           {
            "colorbar": {
             "outlinewidth": 0,
             "ticks": ""
            },
            "type": "choropleth"
           }
          ],
          "contour": [
           {
            "colorbar": {
             "outlinewidth": 0,
             "ticks": ""
            },
            "colorscale": [
             [
              0,
              "#0d0887"
             ],
             [
              0.1111111111111111,
              "#46039f"
             ],
             [
              0.2222222222222222,
              "#7201a8"
             ],
             [
              0.3333333333333333,
              "#9c179e"
             ],
             [
              0.4444444444444444,
              "#bd3786"
             ],
             [
              0.5555555555555556,
              "#d8576b"
             ],
             [
              0.6666666666666666,
              "#ed7953"
             ],
             [
              0.7777777777777778,
              "#fb9f3a"
             ],
             [
              0.8888888888888888,
              "#fdca26"
             ],
             [
              1,
              "#f0f921"
             ]
            ],
            "type": "contour"
           }
          ],
          "contourcarpet": [
           {
            "colorbar": {
             "outlinewidth": 0,
             "ticks": ""
            },
            "type": "contourcarpet"
           }
          ],
          "heatmap": [
           {
            "colorbar": {
             "outlinewidth": 0,
             "ticks": ""
            },
            "colorscale": [
             [
              0,
              "#0d0887"
             ],
             [
              0.1111111111111111,
              "#46039f"
             ],
             [
              0.2222222222222222,
              "#7201a8"
             ],
             [
              0.3333333333333333,
              "#9c179e"
             ],
             [
              0.4444444444444444,
              "#bd3786"
             ],
             [
              0.5555555555555556,
              "#d8576b"
             ],
             [
              0.6666666666666666,
              "#ed7953"
             ],
             [
              0.7777777777777778,
              "#fb9f3a"
             ],
             [
              0.8888888888888888,
              "#fdca26"
             ],
             [
              1,
              "#f0f921"
             ]
            ],
            "type": "heatmap"
           }
          ],
          "heatmapgl": [
           {
            "colorbar": {
             "outlinewidth": 0,
             "ticks": ""
            },
            "colorscale": [
             [
              0,
              "#0d0887"
             ],
             [
              0.1111111111111111,
              "#46039f"
             ],
             [
              0.2222222222222222,
              "#7201a8"
             ],
             [
              0.3333333333333333,
              "#9c179e"
             ],
             [
              0.4444444444444444,
              "#bd3786"
             ],
             [
              0.5555555555555556,
              "#d8576b"
             ],
             [
              0.6666666666666666,
              "#ed7953"
             ],
             [
              0.7777777777777778,
              "#fb9f3a"
             ],
             [
              0.8888888888888888,
              "#fdca26"
             ],
             [
              1,
              "#f0f921"
             ]
            ],
            "type": "heatmapgl"
           }
          ],
          "histogram": [
           {
            "marker": {
             "pattern": {
              "fillmode": "overlay",
              "size": 10,
              "solidity": 0.2
             }
            },
            "type": "histogram"
           }
          ],
          "histogram2d": [
           {
            "colorbar": {
             "outlinewidth": 0,
             "ticks": ""
            },
            "colorscale": [
             [
              0,
              "#0d0887"
             ],
             [
              0.1111111111111111,
              "#46039f"
             ],
             [
              0.2222222222222222,
              "#7201a8"
             ],
             [
              0.3333333333333333,
              "#9c179e"
             ],
             [
              0.4444444444444444,
              "#bd3786"
             ],
             [
              0.5555555555555556,
              "#d8576b"
             ],
             [
              0.6666666666666666,
              "#ed7953"
             ],
             [
              0.7777777777777778,
              "#fb9f3a"
             ],
             [
              0.8888888888888888,
              "#fdca26"
             ],
             [
              1,
              "#f0f921"
             ]
            ],
            "type": "histogram2d"
           }
          ],
          "histogram2dcontour": [
           {
            "colorbar": {
             "outlinewidth": 0,
             "ticks": ""
            },
            "colorscale": [
             [
              0,
              "#0d0887"
             ],
             [
              0.1111111111111111,
              "#46039f"
             ],
             [
              0.2222222222222222,
              "#7201a8"
             ],
             [
              0.3333333333333333,
              "#9c179e"
             ],
             [
              0.4444444444444444,
              "#bd3786"
             ],
             [
              0.5555555555555556,
              "#d8576b"
             ],
             [
              0.6666666666666666,
              "#ed7953"
             ],
             [
              0.7777777777777778,
              "#fb9f3a"
             ],
             [
              0.8888888888888888,
              "#fdca26"
             ],
             [
              1,
              "#f0f921"
             ]
            ],
            "type": "histogram2dcontour"
           }
          ],
          "mesh3d": [
           {
            "colorbar": {
             "outlinewidth": 0,
             "ticks": ""
            },
            "type": "mesh3d"
           }
          ],
          "parcoords": [
           {
            "line": {
             "colorbar": {
              "outlinewidth": 0,
              "ticks": ""
             }
            },
            "type": "parcoords"
           }
          ],
          "pie": [
           {
            "automargin": true,
            "type": "pie"
           }
          ],
          "scatter": [
           {
            "marker": {
             "colorbar": {
              "outlinewidth": 0,
              "ticks": ""
             }
            },
            "type": "scatter"
           }
          ],
          "scatter3d": [
           {
            "line": {
             "colorbar": {
              "outlinewidth": 0,
              "ticks": ""
             }
            },
            "marker": {
             "colorbar": {
              "outlinewidth": 0,
              "ticks": ""
             }
            },
            "type": "scatter3d"
           }
          ],
          "scattercarpet": [
           {
            "marker": {
             "colorbar": {
              "outlinewidth": 0,
              "ticks": ""
             }
            },
            "type": "scattercarpet"
           }
          ],
          "scattergeo": [
           {
            "marker": {
             "colorbar": {
              "outlinewidth": 0,
              "ticks": ""
             }
            },
            "type": "scattergeo"
           }
          ],
          "scattergl": [
           {
            "marker": {
             "colorbar": {
              "outlinewidth": 0,
              "ticks": ""
             }
            },
            "type": "scattergl"
           }
          ],
          "scattermapbox": [
           {
            "marker": {
             "colorbar": {
              "outlinewidth": 0,
              "ticks": ""
             }
            },
            "type": "scattermapbox"
           }
          ],
          "scatterpolar": [
           {
            "marker": {
             "colorbar": {
              "outlinewidth": 0,
              "ticks": ""
             }
            },
            "type": "scatterpolar"
           }
          ],
          "scatterpolargl": [
           {
            "marker": {
             "colorbar": {
              "outlinewidth": 0,
              "ticks": ""
             }
            },
            "type": "scatterpolargl"
           }
          ],
          "scatterternary": [
           {
            "marker": {
             "colorbar": {
              "outlinewidth": 0,
              "ticks": ""
             }
            },
            "type": "scatterternary"
           }
          ],
          "surface": [
           {
            "colorbar": {
             "outlinewidth": 0,
             "ticks": ""
            },
            "colorscale": [
             [
              0,
              "#0d0887"
             ],
             [
              0.1111111111111111,
              "#46039f"
             ],
             [
              0.2222222222222222,
              "#7201a8"
             ],
             [
              0.3333333333333333,
              "#9c179e"
             ],
             [
              0.4444444444444444,
              "#bd3786"
             ],
             [
              0.5555555555555556,
              "#d8576b"
             ],
             [
              0.6666666666666666,
              "#ed7953"
             ],
             [
              0.7777777777777778,
              "#fb9f3a"
             ],
             [
              0.8888888888888888,
              "#fdca26"
             ],
             [
              1,
              "#f0f921"
             ]
            ],
            "type": "surface"
           }
          ],
          "table": [
           {
            "cells": {
             "fill": {
              "color": "#EBF0F8"
             },
             "line": {
              "color": "white"
             }
            },
            "header": {
             "fill": {
              "color": "#C8D4E3"
             },
             "line": {
              "color": "white"
             }
            },
            "type": "table"
           }
          ]
         },
         "layout": {
          "annotationdefaults": {
           "arrowcolor": "#2a3f5f",
           "arrowhead": 0,
           "arrowwidth": 1
          },
          "autotypenumbers": "strict",
          "coloraxis": {
           "colorbar": {
            "outlinewidth": 0,
            "ticks": ""
           }
          },
          "colorscale": {
           "diverging": [
            [
             0,
             "#8e0152"
            ],
            [
             0.1,
             "#c51b7d"
            ],
            [
             0.2,
             "#de77ae"
            ],
            [
             0.3,
             "#f1b6da"
            ],
            [
             0.4,
             "#fde0ef"
            ],
            [
             0.5,
             "#f7f7f7"
            ],
            [
             0.6,
             "#e6f5d0"
            ],
            [
             0.7,
             "#b8e186"
            ],
            [
             0.8,
             "#7fbc41"
            ],
            [
             0.9,
             "#4d9221"
            ],
            [
             1,
             "#276419"
            ]
           ],
           "sequential": [
            [
             0,
             "#0d0887"
            ],
            [
             0.1111111111111111,
             "#46039f"
            ],
            [
             0.2222222222222222,
             "#7201a8"
            ],
            [
             0.3333333333333333,
             "#9c179e"
            ],
            [
             0.4444444444444444,
             "#bd3786"
            ],
            [
             0.5555555555555556,
             "#d8576b"
            ],
            [
             0.6666666666666666,
             "#ed7953"
            ],
            [
             0.7777777777777778,
             "#fb9f3a"
            ],
            [
             0.8888888888888888,
             "#fdca26"
            ],
            [
             1,
             "#f0f921"
            ]
           ],
           "sequentialminus": [
            [
             0,
             "#0d0887"
            ],
            [
             0.1111111111111111,
             "#46039f"
            ],
            [
             0.2222222222222222,
             "#7201a8"
            ],
            [
             0.3333333333333333,
             "#9c179e"
            ],
            [
             0.4444444444444444,
             "#bd3786"
            ],
            [
             0.5555555555555556,
             "#d8576b"
            ],
            [
             0.6666666666666666,
             "#ed7953"
            ],
            [
             0.7777777777777778,
             "#fb9f3a"
            ],
            [
             0.8888888888888888,
             "#fdca26"
            ],
            [
             1,
             "#f0f921"
            ]
           ]
          },
          "colorway": [
           "#636efa",
           "#EF553B",
           "#00cc96",
           "#ab63fa",
           "#FFA15A",
           "#19d3f3",
           "#FF6692",
           "#B6E880",
           "#FF97FF",
           "#FECB52"
          ],
          "font": {
           "color": "#2a3f5f"
          },
          "geo": {
           "bgcolor": "white",
           "lakecolor": "white",
           "landcolor": "#E5ECF6",
           "showlakes": true,
           "showland": true,
           "subunitcolor": "white"
          },
          "hoverlabel": {
           "align": "left"
          },
          "hovermode": "closest",
          "mapbox": {
           "style": "light"
          },
          "paper_bgcolor": "white",
          "plot_bgcolor": "#E5ECF6",
          "polar": {
           "angularaxis": {
            "gridcolor": "white",
            "linecolor": "white",
            "ticks": ""
           },
           "bgcolor": "#E5ECF6",
           "radialaxis": {
            "gridcolor": "white",
            "linecolor": "white",
            "ticks": ""
           }
          },
          "scene": {
           "xaxis": {
            "backgroundcolor": "#E5ECF6",
            "gridcolor": "white",
            "gridwidth": 2,
            "linecolor": "white",
            "showbackground": true,
            "ticks": "",
            "zerolinecolor": "white"
           },
           "yaxis": {
            "backgroundcolor": "#E5ECF6",
            "gridcolor": "white",
            "gridwidth": 2,
            "linecolor": "white",
            "showbackground": true,
            "ticks": "",
            "zerolinecolor": "white"
           },
           "zaxis": {
            "backgroundcolor": "#E5ECF6",
            "gridcolor": "white",
            "gridwidth": 2,
            "linecolor": "white",
            "showbackground": true,
            "ticks": "",
            "zerolinecolor": "white"
           }
          },
          "shapedefaults": {
           "line": {
            "color": "#2a3f5f"
           }
          },
          "ternary": {
           "aaxis": {
            "gridcolor": "white",
            "linecolor": "white",
            "ticks": ""
           },
           "baxis": {
            "gridcolor": "white",
            "linecolor": "white",
            "ticks": ""
           },
           "bgcolor": "#E5ECF6",
           "caxis": {
            "gridcolor": "white",
            "linecolor": "white",
            "ticks": ""
           }
          },
          "title": {
           "x": 0.05
          },
          "xaxis": {
           "automargin": true,
           "gridcolor": "white",
           "linecolor": "white",
           "ticks": "",
           "title": {
            "standoff": 15
           },
           "zerolinecolor": "white",
           "zerolinewidth": 2
          },
          "yaxis": {
           "automargin": true,
           "gridcolor": "white",
           "linecolor": "white",
           "ticks": "",
           "title": {
            "standoff": 15
           },
           "zerolinecolor": "white",
           "zerolinewidth": 2
          }
         }
        },
        "violinmode": "group",
        "xaxis": {
         "anchor": "y",
         "domain": [
          0,
          1
         ]
        },
        "yaxis": {
         "anchor": "x",
         "domain": [
          0,
          1
         ],
         "title": {
          "text": "pH"
         }
        }
       }
      },
      "text/html": [
       "<div>                            <div id=\"5c2a3309-14e0-4558-93a3-fe09370297f5\" class=\"plotly-graph-div\" style=\"height:525px; width:100%;\"></div>            <script type=\"text/javascript\">                require([\"plotly\"], function(Plotly) {                    window.PLOTLYENV=window.PLOTLYENV || {};                                    if (document.getElementById(\"5c2a3309-14e0-4558-93a3-fe09370297f5\")) {                    Plotly.newPlot(                        \"5c2a3309-14e0-4558-93a3-fe09370297f5\",                        [{\"alignmentgroup\":\"True\",\"box\":{\"visible\":true},\"hovertemplate\":\"pH=%{y}<extra></extra>\",\"legendgroup\":\"\",\"marker\":{\"color\":\"#636efa\"},\"name\":\"\",\"offsetgroup\":\"\",\"orientation\":\"v\",\"points\":\"all\",\"scalegroup\":\"True\",\"showlegend\":false,\"type\":\"violin\",\"x0\":\" \",\"xaxis\":\"x\",\"y\":[6.6,6.6,8.5,9.5,6.6,6.6,5.5,4.5,8.1,6.7,6.7,5.6,8.6,7.4,6.8,6.5,4.7,3.0,9.0,6.8,6.6,6.5,4.5,6.6,6.8,6.5,8.5,6.6,6.5,6.6,6.4,6.5,6.8,6.7,6.7,6.8,8.6,7.4,6.8,6.5,6.8,3.0,9.0,6.8,6.6,6.5,6.6,6.8,9.5,6.5,6.6,5.5,4.5,8.1,6.7,6.7,5.6,8.6,7.4,6.8,6.5,6.7,3.0,9.0,8.6,6.8,6.8,6.5,4.7,3.0,9.0,6.8,6.6,6.5,4.5,6.8,6.5,6.8,8.5,6.8,6.5,6.6,6.8,7.4,6.8,6.5,6.6,3.0,9.0,6.8,6.6,6.5,6.6,6.8,9.5,6.5,9.5,6.5,6.6,5.5,4.5,8.1,6.7,6.7,5.6,6.6,7.4,6.8,6.5,6.7,3.0,6.6,8.6,6.8,6.8,6.5,6.6,3.0,9.0,6.8,6.6,6.5,6.6,6.8,6.5,6.8,8.5,6.8,6.6,6.5,4.5,6.8,6.5,6.8,8.5,6.8,6.5,6.6,6.8,7.4,6.8,6.5,6.6,3.0,9.0,6.8,6.6,6.5,6.6,6.8,9.5,6.5,9.5,6.5,6.6,5.5,4.5,8.1,6.7,6.7,5.6,6.6,7.4,6.8,6.5,6.7,6.7,6.8,8.6,7.4,6.8,6.5,6.8,3.0,9.0,6.8,6.6,6.5,6.6,6.8,9.5,6.5,6.6,5.5,4.5,8.1,6.7,6.7,5.6,8.6,7.4,6.8,6.5,6.7,3.0,9.0,8.6,6.8,6.8,6.5,4.7,3.0,9.0,6.8,6.5,6.6,5.5,4.5,8.1,6.7,6.7,5.6,8.6,7.4,6.8,6.5,6.7,3.0,9.0,8.6,6.8,6.8,6.5,4.7,3.0,9.0,6.8,6.6,6.5,4.5,6.8,6.5,6.8,8.5,6.8,6.5,6.6,6.8,7.4,6.8,6.5,6.6,3.0,9.0,6.5,6.7,3.0,6.6,8.6,6.8,6.8,6.5,6.6,3.0,9.0,6.8,6.6,6.5,6.6,6.8,6.5,6.8,8.5,6.8,6.6,6.5,4.5,6.8,6.5,6.8,8.5,6.8,9.0,6.8,6.6,6.5,6.6,6.8,9.5,6.5,9.5,6.5,6.6,5.5,4.5,8.1,6.7,6.7,5.6,6.6,7.4,6.8,6.5,6.7,6.7,6.8,8.6,7.4,6.8,6.5,6.8,3.0,9.0,6.8,6.6,6.5,6.6,6.8,9.5,6.5,6.6,5.5,4.5,8.1,6.7,6.7,5.6,8.6,7.4,6.8,6.5,6.7,3.0,9.0,8.6,6.8,6.8,6.5,4.7,3.0,9.0,6.8,6.5,6.6,5.5,4.5,8.1,6.7,6.7,5.6,8.6,7.4,6.8,6.5,6.7,3.0,9.0,8.6,6.8,6.8,6.5,4.7,3.0,9.0,6.8,6.6,6.5,4.5,6.8,6.5,6.8,8.5,6.8,6.5,6.6,6.8,7.4,6.8,6.5,6.6,3.0,9.0,6.5,6.7,3.0,6.6,8.6,6.8,6.8,6.5,6.6,3.0,9.0,6.8,6.6,6.5,6.8,6.5,4.7,3.0,9.0,6.8,6.6,6.5,4.5,6.8,6.5,6.8,8.5,6.8,6.5,6.6,6.8,7.4,6.8,6.5,6.6,3.0,9.0,6.8,6.6,6.5,6.6,6.8,9.5,6.5,9.5,6.5,6.6,5.5,4.5,8.1,6.7,6.7,5.6,6.6,7.4,6.8,6.5,6.7,3.0,6.6,8.6,6.8,6.8,6.5,6.6,3.0,9.0,6.8,6.6,6.5,6.6,6.8,6.5,6.8,8.5,6.8,6.6,6.5,4.5,6.8,6.5,6.8,8.5,6.6,6.8,9.5,6.5,9.5,6.5,6.6,5.5,4.5,8.1,6.7,6.7,5.6,6.6,7.4,6.8,6.5,6.7,3.0,6.6,8.6,6.8,6.8,6.5,6.6,3.0,9.0,6.8,6.6,6.5,6.6,6.8,6.5,6.8,8.5,6.8,6.6,6.5,4.5,6.8,6.5,6.8,8.5,6.8,6.5,6.6,6.8,7.4,6.8,6.5,6.6,3.0,9.0,6.8,6.6,6.5,6.6,6.8,9.5,6.5,9.5,6.5,6.6,5.5,4.5,8.1,6.7,6.7,5.6,6.6,7.4,6.8,6.5,6.7,6.7,6.8,6.6,7.4,6.8,6.5,6.8,3.0,9.0,6.8,6.6,6.5,6.6,6.8,9.5,6.5,6.6,5.5,6.5,8.1,6.7,6.7,3.0,6.8,8.6,6.8,6.8,6.5,4.7,3.0,9.0,6.8,6.6,6.5,4.5,6.8,6.5,6.8,8.5,6.8,6.5,6.6,6.8,7.4,6.8,6.5,6.6,6.6,9.0,6.5,6.7,3.0,6.6,6.8,6.5,6.6,3.0,9.0,6.8,6.6,6.5,6.6,6.8,9.5,6.5,9.5,6.5,6.6,5.5,4.5,8.1,6.7,6.7,5.6,6.6,7.4,6.8,6.5,6.7,6.7,6.8,6.6,7.4,6.8,6.5,6.8,3.0,9.0,6.8,6.6,6.5,6.6,6.8,9.5,6.5,6.6,5.5,6.5,8.1,6.7,6.7,3.0,6.8,8.6,6.8,6.8,6.5,4.7,3.0,9.0,6.8,6.6,6.5,4.5,6.8,6.5,6.8,8.5,6.8,6.5,6.6,6.8,7.4,6.8,6.5,6.6,6.7,3.0,9.0,8.6,6.8,6.8,6.5,4.7,3.0,9.0,6.8,6.5,6.6,5.5,4.5,8.1,6.7,6.7,5.6,8.6,7.4,6.8,6.5,6.7,3.0,9.0,8.6,6.8,6.8,6.5,4.7,3.0,9.0,6.8,6.6,6.5,4.5,6.8,6.5,6.8,8.5,6.8,6.5,6.6,6.8,7.4,6.8,6.5,6.6,3.0,9.0,6.5,6.7,3.0,6.6,8.6,6.8,6.8,6.5,6.6,3.0,9.0,6.8,6.6,6.5,6.8,6.5,4.7,3.0,9.0,6.8,6.6,6.5,4.5,6.8,5.5,4.5,8.1,6.7,6.7,5.6,6.6,7.4,6.8,6.5,6.7,6.7,6.8,8.6,7.4,6.8,6.5,6.8,3.0,9.0,6.8,6.6,6.5,6.6,6.8,9.5,6.5,6.6,5.5,4.5,8.1,6.7,6.7,5.6,8.6,7.4,6.8,6.5,6.7,3.0,9.0,8.6,6.8,6.8,6.5,4.7,3.0,9.0,6.8,6.5,6.6,5.5,4.5,8.1,6.7,6.7,5.6,8.6,7.4,6.8,6.5,6.7,3.0,9.0,8.6,6.8,6.8,6.5,4.7,3.0,9.0,6.8,6.6,6.5,4.5,6.8,6.5,6.8,8.5,6.8,6.5,6.6,6.8,7.4,6.8,6.5,6.6,3.0,9.0,6.5,6.7,6.6,6.6,8.6,6.8,6.8,6.5,6.6,3.0,9.0,6.8,6.6,6.5,6.8,6.5,4.7,3.0,9.0,6.8,6.6,6.5,4.5,6.8,6.5,6.8,8.5,6.8,6.5,6.6,6.8,7.4,6.8,6.5,6.6,3.0,9.0,6.8,6.6,6.5,6.6,6.8,6.6,9.0,6.8,6.6,6.5,6.6,6.8,9.5,6.5,6.6,5.5,6.5,8.1,6.7,6.7,3.0,6.8,8.6,6.8,6.8,6.5,4.7,6.6,9.0,6.8,6.6,6.5,4.5,6.8,6.5,6.6,6.8,7.4,6.8,6.5,6.6,6.7,3.0,6.6,8.6,6.8,6.8,6.5,4.7,3.0,9.0,6.8,6.5,6.6,5.5,6.5,8.1,6.7,6.7,5.6,8.6,6.7,6.7,6.8,8.6,7.4,6.8,6.5,6.8,3.0,9.0,6.8,6.6,6.5,6.6,6.8,9.5,6.5,6.6,5.5,4.5,8.1,6.7,6.7,5.6,8.6,6.6,9.0,6.8,6.6,6.5,4.5,6.8,6.5,6.8,8.5,6.8,6.5,6.6,6.8,7.4,6.8,6.5,6.6,3.0,9.0,6.5,6.7,3.0,6.6,8.6,6.5,8.1,6.7,6.7,3.0,6.8,8.6,6.8,6.8,6.5,4.7,3.0,9.0,6.8,6.6,6.5,4.5,6.8,6.5,6.8,8.5,6.8,6.5,6.6,6.8,7.4,6.8,6.5,6.6,6.7,3.0,6.6,8.6,6.8,6.8,6.5,4.7,3.0,9.0,6.8,6.5,3.0,9.0,6.8,6.6,6.5,6.8,6.5,4.7,3.0,9.0,6.8,6.6,6.5,4.5,6.8,6.5,6.8,8.5,6.8,6.5,6.6,6.8,7.4,6.8,6.5,6.6,3.0,9.0,6.8,6.6,6.5,6.6,6.8,6.6,9.0,6.8,6.6,6.5,6.6,6.8,9.5,6.5,6.6,5.5,6.5,8.1,6.7,6.7,3.0,6.8,8.6],\"y0\":\" \",\"yaxis\":\"y\"}],                        {\"legend\":{\"tracegroupgap\":0},\"margin\":{\"t\":60},\"template\":{\"data\":{\"bar\":[{\"error_x\":{\"color\":\"#2a3f5f\"},\"error_y\":{\"color\":\"#2a3f5f\"},\"marker\":{\"line\":{\"color\":\"#E5ECF6\",\"width\":0.5},\"pattern\":{\"fillmode\":\"overlay\",\"size\":10,\"solidity\":0.2}},\"type\":\"bar\"}],\"barpolar\":[{\"marker\":{\"line\":{\"color\":\"#E5ECF6\",\"width\":0.5},\"pattern\":{\"fillmode\":\"overlay\",\"size\":10,\"solidity\":0.2}},\"type\":\"barpolar\"}],\"carpet\":[{\"aaxis\":{\"endlinecolor\":\"#2a3f5f\",\"gridcolor\":\"white\",\"linecolor\":\"white\",\"minorgridcolor\":\"white\",\"startlinecolor\":\"#2a3f5f\"},\"baxis\":{\"endlinecolor\":\"#2a3f5f\",\"gridcolor\":\"white\",\"linecolor\":\"white\",\"minorgridcolor\":\"white\",\"startlinecolor\":\"#2a3f5f\"},\"type\":\"carpet\"}],\"choropleth\":[{\"colorbar\":{\"outlinewidth\":0,\"ticks\":\"\"},\"type\":\"choropleth\"}],\"contour\":[{\"colorbar\":{\"outlinewidth\":0,\"ticks\":\"\"},\"colorscale\":[[0.0,\"#0d0887\"],[0.1111111111111111,\"#46039f\"],[0.2222222222222222,\"#7201a8\"],[0.3333333333333333,\"#9c179e\"],[0.4444444444444444,\"#bd3786\"],[0.5555555555555556,\"#d8576b\"],[0.6666666666666666,\"#ed7953\"],[0.7777777777777778,\"#fb9f3a\"],[0.8888888888888888,\"#fdca26\"],[1.0,\"#f0f921\"]],\"type\":\"contour\"}],\"contourcarpet\":[{\"colorbar\":{\"outlinewidth\":0,\"ticks\":\"\"},\"type\":\"contourcarpet\"}],\"heatmap\":[{\"colorbar\":{\"outlinewidth\":0,\"ticks\":\"\"},\"colorscale\":[[0.0,\"#0d0887\"],[0.1111111111111111,\"#46039f\"],[0.2222222222222222,\"#7201a8\"],[0.3333333333333333,\"#9c179e\"],[0.4444444444444444,\"#bd3786\"],[0.5555555555555556,\"#d8576b\"],[0.6666666666666666,\"#ed7953\"],[0.7777777777777778,\"#fb9f3a\"],[0.8888888888888888,\"#fdca26\"],[1.0,\"#f0f921\"]],\"type\":\"heatmap\"}],\"heatmapgl\":[{\"colorbar\":{\"outlinewidth\":0,\"ticks\":\"\"},\"colorscale\":[[0.0,\"#0d0887\"],[0.1111111111111111,\"#46039f\"],[0.2222222222222222,\"#7201a8\"],[0.3333333333333333,\"#9c179e\"],[0.4444444444444444,\"#bd3786\"],[0.5555555555555556,\"#d8576b\"],[0.6666666666666666,\"#ed7953\"],[0.7777777777777778,\"#fb9f3a\"],[0.8888888888888888,\"#fdca26\"],[1.0,\"#f0f921\"]],\"type\":\"heatmapgl\"}],\"histogram\":[{\"marker\":{\"pattern\":{\"fillmode\":\"overlay\",\"size\":10,\"solidity\":0.2}},\"type\":\"histogram\"}],\"histogram2d\":[{\"colorbar\":{\"outlinewidth\":0,\"ticks\":\"\"},\"colorscale\":[[0.0,\"#0d0887\"],[0.1111111111111111,\"#46039f\"],[0.2222222222222222,\"#7201a8\"],[0.3333333333333333,\"#9c179e\"],[0.4444444444444444,\"#bd3786\"],[0.5555555555555556,\"#d8576b\"],[0.6666666666666666,\"#ed7953\"],[0.7777777777777778,\"#fb9f3a\"],[0.8888888888888888,\"#fdca26\"],[1.0,\"#f0f921\"]],\"type\":\"histogram2d\"}],\"histogram2dcontour\":[{\"colorbar\":{\"outlinewidth\":0,\"ticks\":\"\"},\"colorscale\":[[0.0,\"#0d0887\"],[0.1111111111111111,\"#46039f\"],[0.2222222222222222,\"#7201a8\"],[0.3333333333333333,\"#9c179e\"],[0.4444444444444444,\"#bd3786\"],[0.5555555555555556,\"#d8576b\"],[0.6666666666666666,\"#ed7953\"],[0.7777777777777778,\"#fb9f3a\"],[0.8888888888888888,\"#fdca26\"],[1.0,\"#f0f921\"]],\"type\":\"histogram2dcontour\"}],\"mesh3d\":[{\"colorbar\":{\"outlinewidth\":0,\"ticks\":\"\"},\"type\":\"mesh3d\"}],\"parcoords\":[{\"line\":{\"colorbar\":{\"outlinewidth\":0,\"ticks\":\"\"}},\"type\":\"parcoords\"}],\"pie\":[{\"automargin\":true,\"type\":\"pie\"}],\"scatter\":[{\"marker\":{\"colorbar\":{\"outlinewidth\":0,\"ticks\":\"\"}},\"type\":\"scatter\"}],\"scatter3d\":[{\"line\":{\"colorbar\":{\"outlinewidth\":0,\"ticks\":\"\"}},\"marker\":{\"colorbar\":{\"outlinewidth\":0,\"ticks\":\"\"}},\"type\":\"scatter3d\"}],\"scattercarpet\":[{\"marker\":{\"colorbar\":{\"outlinewidth\":0,\"ticks\":\"\"}},\"type\":\"scattercarpet\"}],\"scattergeo\":[{\"marker\":{\"colorbar\":{\"outlinewidth\":0,\"ticks\":\"\"}},\"type\":\"scattergeo\"}],\"scattergl\":[{\"marker\":{\"colorbar\":{\"outlinewidth\":0,\"ticks\":\"\"}},\"type\":\"scattergl\"}],\"scattermapbox\":[{\"marker\":{\"colorbar\":{\"outlinewidth\":0,\"ticks\":\"\"}},\"type\":\"scattermapbox\"}],\"scatterpolar\":[{\"marker\":{\"colorbar\":{\"outlinewidth\":0,\"ticks\":\"\"}},\"type\":\"scatterpolar\"}],\"scatterpolargl\":[{\"marker\":{\"colorbar\":{\"outlinewidth\":0,\"ticks\":\"\"}},\"type\":\"scatterpolargl\"}],\"scatterternary\":[{\"marker\":{\"colorbar\":{\"outlinewidth\":0,\"ticks\":\"\"}},\"type\":\"scatterternary\"}],\"surface\":[{\"colorbar\":{\"outlinewidth\":0,\"ticks\":\"\"},\"colorscale\":[[0.0,\"#0d0887\"],[0.1111111111111111,\"#46039f\"],[0.2222222222222222,\"#7201a8\"],[0.3333333333333333,\"#9c179e\"],[0.4444444444444444,\"#bd3786\"],[0.5555555555555556,\"#d8576b\"],[0.6666666666666666,\"#ed7953\"],[0.7777777777777778,\"#fb9f3a\"],[0.8888888888888888,\"#fdca26\"],[1.0,\"#f0f921\"]],\"type\":\"surface\"}],\"table\":[{\"cells\":{\"fill\":{\"color\":\"#EBF0F8\"},\"line\":{\"color\":\"white\"}},\"header\":{\"fill\":{\"color\":\"#C8D4E3\"},\"line\":{\"color\":\"white\"}},\"type\":\"table\"}]},\"layout\":{\"annotationdefaults\":{\"arrowcolor\":\"#2a3f5f\",\"arrowhead\":0,\"arrowwidth\":1},\"autotypenumbers\":\"strict\",\"coloraxis\":{\"colorbar\":{\"outlinewidth\":0,\"ticks\":\"\"}},\"colorscale\":{\"diverging\":[[0,\"#8e0152\"],[0.1,\"#c51b7d\"],[0.2,\"#de77ae\"],[0.3,\"#f1b6da\"],[0.4,\"#fde0ef\"],[0.5,\"#f7f7f7\"],[0.6,\"#e6f5d0\"],[0.7,\"#b8e186\"],[0.8,\"#7fbc41\"],[0.9,\"#4d9221\"],[1,\"#276419\"]],\"sequential\":[[0.0,\"#0d0887\"],[0.1111111111111111,\"#46039f\"],[0.2222222222222222,\"#7201a8\"],[0.3333333333333333,\"#9c179e\"],[0.4444444444444444,\"#bd3786\"],[0.5555555555555556,\"#d8576b\"],[0.6666666666666666,\"#ed7953\"],[0.7777777777777778,\"#fb9f3a\"],[0.8888888888888888,\"#fdca26\"],[1.0,\"#f0f921\"]],\"sequentialminus\":[[0.0,\"#0d0887\"],[0.1111111111111111,\"#46039f\"],[0.2222222222222222,\"#7201a8\"],[0.3333333333333333,\"#9c179e\"],[0.4444444444444444,\"#bd3786\"],[0.5555555555555556,\"#d8576b\"],[0.6666666666666666,\"#ed7953\"],[0.7777777777777778,\"#fb9f3a\"],[0.8888888888888888,\"#fdca26\"],[1.0,\"#f0f921\"]]},\"colorway\":[\"#636efa\",\"#EF553B\",\"#00cc96\",\"#ab63fa\",\"#FFA15A\",\"#19d3f3\",\"#FF6692\",\"#B6E880\",\"#FF97FF\",\"#FECB52\"],\"font\":{\"color\":\"#2a3f5f\"},\"geo\":{\"bgcolor\":\"white\",\"lakecolor\":\"white\",\"landcolor\":\"#E5ECF6\",\"showlakes\":true,\"showland\":true,\"subunitcolor\":\"white\"},\"hoverlabel\":{\"align\":\"left\"},\"hovermode\":\"closest\",\"mapbox\":{\"style\":\"light\"},\"paper_bgcolor\":\"white\",\"plot_bgcolor\":\"#E5ECF6\",\"polar\":{\"angularaxis\":{\"gridcolor\":\"white\",\"linecolor\":\"white\",\"ticks\":\"\"},\"bgcolor\":\"#E5ECF6\",\"radialaxis\":{\"gridcolor\":\"white\",\"linecolor\":\"white\",\"ticks\":\"\"}},\"scene\":{\"xaxis\":{\"backgroundcolor\":\"#E5ECF6\",\"gridcolor\":\"white\",\"gridwidth\":2,\"linecolor\":\"white\",\"showbackground\":true,\"ticks\":\"\",\"zerolinecolor\":\"white\"},\"yaxis\":{\"backgroundcolor\":\"#E5ECF6\",\"gridcolor\":\"white\",\"gridwidth\":2,\"linecolor\":\"white\",\"showbackground\":true,\"ticks\":\"\",\"zerolinecolor\":\"white\"},\"zaxis\":{\"backgroundcolor\":\"#E5ECF6\",\"gridcolor\":\"white\",\"gridwidth\":2,\"linecolor\":\"white\",\"showbackground\":true,\"ticks\":\"\",\"zerolinecolor\":\"white\"}},\"shapedefaults\":{\"line\":{\"color\":\"#2a3f5f\"}},\"ternary\":{\"aaxis\":{\"gridcolor\":\"white\",\"linecolor\":\"white\",\"ticks\":\"\"},\"baxis\":{\"gridcolor\":\"white\",\"linecolor\":\"white\",\"ticks\":\"\"},\"bgcolor\":\"#E5ECF6\",\"caxis\":{\"gridcolor\":\"white\",\"linecolor\":\"white\",\"ticks\":\"\"}},\"title\":{\"x\":0.05},\"xaxis\":{\"automargin\":true,\"gridcolor\":\"white\",\"linecolor\":\"white\",\"ticks\":\"\",\"title\":{\"standoff\":15},\"zerolinecolor\":\"white\",\"zerolinewidth\":2},\"yaxis\":{\"automargin\":true,\"gridcolor\":\"white\",\"linecolor\":\"white\",\"ticks\":\"\",\"title\":{\"standoff\":15},\"zerolinecolor\":\"white\",\"zerolinewidth\":2}}},\"violinmode\":\"group\",\"xaxis\":{\"anchor\":\"y\",\"domain\":[0.0,1.0]},\"yaxis\":{\"anchor\":\"x\",\"domain\":[0.0,1.0],\"title\":{\"text\":\"pH\"}}},                        {\"responsive\": true}                    ).then(function(){\n",
       "                            \n",
       "var gd = document.getElementById('5c2a3309-14e0-4558-93a3-fe09370297f5');\n",
       "var x = new MutationObserver(function (mutations, observer) {{\n",
       "        var display = window.getComputedStyle(gd).display;\n",
       "        if (!display || display === 'none') {{\n",
       "            console.log([gd, 'removed!']);\n",
       "            Plotly.purge(gd);\n",
       "            observer.disconnect();\n",
       "        }}\n",
       "}});\n",
       "\n",
       "// Listen for the removal of the full notebook cells\n",
       "var notebookContainer = gd.closest('#notebook-container');\n",
       "if (notebookContainer) {{\n",
       "    x.observe(notebookContainer, {childList: true});\n",
       "}}\n",
       "\n",
       "// Listen for the clearing of the current output cell\n",
       "var outputEl = gd.closest('.output');\n",
       "if (outputEl) {{\n",
       "    x.observe(outputEl, {childList: true});\n",
       "}}\n",
       "\n",
       "                        })                };                });            </script>        </div>"
      ]
     },
     "metadata": {},
     "output_type": "display_data"
    }
   ],
   "source": [
    "# graficamos diagrama de violín con data y diagrama de caja para la variable pH\n",
    "fig = px.violin(df, y=\"pH\", box=True, \n",
    "                points='all', \n",
    "               )\n",
    "fig.show()"
   ]
  },
  {
   "cell_type": "code",
   "execution_count": 240,
   "id": "7b2130ed",
   "metadata": {},
   "outputs": [
    {
     "data": {
      "application/vnd.plotly.v1+json": {
       "config": {
        "plotlyServerURL": "https://plot.ly"
       },
       "data": [
        {
         "alignmentgroup": "True",
         "box": {
          "visible": true
         },
         "hovertemplate": "Temprature=%{y}<extra></extra>",
         "legendgroup": "",
         "marker": {
          "color": "#636efa"
         },
         "name": "",
         "offsetgroup": "",
         "orientation": "v",
         "points": "all",
         "scalegroup": "True",
         "showlegend": false,
         "type": "violin",
         "x0": " ",
         "xaxis": "x",
         "y": [
          35,
          36,
          70,
          34,
          37,
          37,
          45,
          60,
          66,
          45,
          45,
          50,
          55,
          90,
          45,
          38,
          38,
          40,
          43,
          40,
          45,
          36,
          38,
          45,
          35,
          36,
          70,
          34,
          37,
          37,
          45,
          40,
          42,
          41,
          50,
          45,
          55,
          65,
          41,
          38,
          38,
          40,
          43,
          40,
          45,
          36,
          38,
          45,
          34,
          37,
          37,
          45,
          60,
          66,
          45,
          45,
          50,
          55,
          90,
          45,
          38,
          38,
          40,
          43,
          55,
          45,
          45,
          38,
          38,
          40,
          43,
          40,
          45,
          36,
          38,
          45,
          35,
          36,
          70,
          34,
          37,
          37,
          45,
          65,
          41,
          38,
          38,
          40,
          43,
          40,
          50,
          36,
          50,
          45,
          34,
          37,
          34,
          37,
          37,
          45,
          60,
          66,
          45,
          45,
          50,
          35,
          90,
          50,
          38,
          38,
          40,
          43,
          55,
          45,
          45,
          38,
          38,
          40,
          43,
          40,
          45,
          36,
          38,
          45,
          55,
          36,
          70,
          40,
          45,
          36,
          38,
          45,
          35,
          36,
          70,
          34,
          37,
          37,
          45,
          65,
          41,
          38,
          38,
          40,
          43,
          40,
          50,
          36,
          50,
          45,
          34,
          37,
          34,
          37,
          37,
          45,
          60,
          66,
          45,
          45,
          50,
          35,
          90,
          50,
          38,
          41,
          50,
          45,
          55,
          65,
          41,
          38,
          38,
          40,
          43,
          40,
          45,
          36,
          38,
          45,
          34,
          37,
          37,
          45,
          60,
          66,
          45,
          45,
          50,
          55,
          90,
          45,
          38,
          38,
          40,
          43,
          55,
          45,
          45,
          38,
          38,
          40,
          43,
          40,
          37,
          37,
          45,
          60,
          66,
          45,
          45,
          50,
          55,
          90,
          45,
          38,
          38,
          40,
          43,
          55,
          45,
          45,
          38,
          38,
          40,
          43,
          40,
          45,
          36,
          38,
          45,
          35,
          36,
          70,
          34,
          37,
          37,
          45,
          65,
          41,
          38,
          38,
          40,
          43,
          38,
          38,
          40,
          43,
          55,
          45,
          45,
          38,
          38,
          40,
          43,
          40,
          45,
          36,
          38,
          45,
          55,
          36,
          70,
          40,
          45,
          36,
          38,
          45,
          35,
          36,
          70,
          34,
          43,
          40,
          50,
          36,
          50,
          45,
          34,
          37,
          34,
          37,
          37,
          45,
          60,
          66,
          45,
          45,
          50,
          35,
          90,
          50,
          38,
          41,
          50,
          45,
          55,
          65,
          41,
          38,
          38,
          40,
          43,
          40,
          45,
          36,
          38,
          45,
          34,
          37,
          37,
          45,
          60,
          66,
          45,
          45,
          50,
          55,
          90,
          45,
          38,
          38,
          40,
          43,
          55,
          45,
          45,
          38,
          38,
          40,
          43,
          40,
          37,
          37,
          45,
          60,
          66,
          45,
          45,
          50,
          55,
          90,
          45,
          38,
          38,
          40,
          43,
          55,
          45,
          45,
          38,
          38,
          40,
          43,
          40,
          45,
          36,
          38,
          45,
          35,
          36,
          70,
          34,
          37,
          37,
          45,
          65,
          41,
          38,
          38,
          40,
          43,
          38,
          38,
          40,
          43,
          55,
          45,
          45,
          38,
          38,
          40,
          43,
          40,
          45,
          36,
          45,
          38,
          38,
          40,
          43,
          40,
          45,
          36,
          38,
          45,
          35,
          36,
          70,
          34,
          37,
          37,
          45,
          65,
          41,
          38,
          38,
          40,
          43,
          40,
          50,
          36,
          50,
          45,
          34,
          37,
          34,
          37,
          37,
          45,
          60,
          66,
          45,
          45,
          50,
          35,
          90,
          50,
          38,
          38,
          40,
          43,
          55,
          45,
          45,
          38,
          38,
          40,
          43,
          40,
          45,
          36,
          38,
          45,
          55,
          36,
          70,
          40,
          45,
          36,
          38,
          45,
          35,
          36,
          70,
          50,
          45,
          34,
          37,
          34,
          37,
          37,
          45,
          60,
          66,
          45,
          45,
          50,
          35,
          90,
          50,
          38,
          38,
          40,
          43,
          55,
          45,
          45,
          38,
          38,
          40,
          43,
          40,
          45,
          36,
          38,
          45,
          55,
          36,
          70,
          40,
          45,
          36,
          38,
          45,
          35,
          36,
          70,
          34,
          37,
          37,
          45,
          65,
          41,
          38,
          38,
          40,
          43,
          40,
          50,
          36,
          50,
          45,
          34,
          37,
          34,
          37,
          37,
          45,
          60,
          66,
          45,
          45,
          50,
          35,
          90,
          50,
          38,
          41,
          50,
          45,
          45,
          65,
          41,
          38,
          38,
          40,
          43,
          40,
          50,
          36,
          38,
          45,
          34,
          37,
          37,
          45,
          40,
          66,
          45,
          38,
          40,
          43,
          55,
          55,
          45,
          38,
          38,
          40,
          43,
          40,
          45,
          36,
          38,
          45,
          50,
          36,
          70,
          34,
          37,
          37,
          45,
          65,
          41,
          38,
          38,
          40,
          43,
          38,
          38,
          40,
          43,
          41,
          38,
          38,
          40,
          43,
          40,
          50,
          36,
          50,
          45,
          34,
          37,
          34,
          37,
          37,
          45,
          60,
          66,
          45,
          45,
          50,
          35,
          90,
          50,
          38,
          41,
          50,
          45,
          45,
          65,
          41,
          38,
          38,
          40,
          43,
          40,
          50,
          36,
          38,
          45,
          34,
          37,
          37,
          45,
          40,
          66,
          45,
          38,
          40,
          43,
          55,
          55,
          45,
          38,
          38,
          40,
          43,
          40,
          45,
          36,
          38,
          45,
          50,
          36,
          70,
          34,
          37,
          37,
          45,
          65,
          41,
          38,
          38,
          38,
          40,
          43,
          55,
          45,
          45,
          38,
          38,
          40,
          43,
          40,
          37,
          37,
          45,
          60,
          66,
          45,
          45,
          50,
          55,
          90,
          45,
          38,
          38,
          40,
          43,
          55,
          45,
          45,
          38,
          38,
          40,
          43,
          40,
          45,
          36,
          38,
          45,
          35,
          36,
          70,
          34,
          37,
          37,
          45,
          65,
          41,
          38,
          38,
          40,
          43,
          38,
          38,
          40,
          43,
          55,
          45,
          45,
          38,
          38,
          40,
          43,
          40,
          45,
          36,
          45,
          38,
          38,
          40,
          43,
          40,
          45,
          36,
          38,
          45,
          45,
          60,
          66,
          45,
          45,
          50,
          35,
          90,
          50,
          38,
          41,
          50,
          45,
          55,
          65,
          41,
          38,
          38,
          40,
          43,
          40,
          45,
          36,
          38,
          45,
          34,
          37,
          37,
          45,
          60,
          66,
          45,
          45,
          50,
          55,
          90,
          45,
          38,
          38,
          40,
          43,
          55,
          45,
          45,
          38,
          38,
          40,
          43,
          40,
          37,
          37,
          45,
          60,
          66,
          45,
          45,
          50,
          55,
          90,
          45,
          38,
          38,
          40,
          43,
          55,
          45,
          45,
          38,
          38,
          40,
          43,
          40,
          45,
          36,
          38,
          45,
          35,
          36,
          70,
          34,
          37,
          37,
          45,
          65,
          41,
          38,
          38,
          40,
          43,
          38,
          38,
          40,
          43,
          55,
          45,
          45,
          38,
          38,
          40,
          43,
          40,
          45,
          36,
          45,
          38,
          38,
          40,
          43,
          40,
          45,
          36,
          38,
          45,
          35,
          36,
          70,
          34,
          37,
          37,
          45,
          65,
          41,
          38,
          38,
          40,
          43,
          40,
          50,
          36,
          50,
          45,
          40,
          43,
          40,
          50,
          36,
          38,
          45,
          34,
          37,
          37,
          45,
          40,
          66,
          45,
          38,
          40,
          43,
          55,
          55,
          45,
          38,
          38,
          40,
          43,
          40,
          45,
          36,
          38,
          45,
          50,
          37,
          45,
          65,
          41,
          38,
          38,
          38,
          40,
          43,
          55,
          45,
          45,
          38,
          38,
          40,
          43,
          40,
          37,
          37,
          45,
          40,
          66,
          45,
          45,
          50,
          55,
          41,
          50,
          45,
          55,
          65,
          41,
          38,
          38,
          40,
          43,
          40,
          45,
          36,
          38,
          45,
          34,
          37,
          37,
          45,
          60,
          66,
          45,
          45,
          50,
          55,
          45,
          43,
          40,
          45,
          36,
          38,
          45,
          35,
          36,
          70,
          34,
          37,
          37,
          45,
          65,
          41,
          38,
          38,
          40,
          43,
          38,
          38,
          40,
          43,
          55,
          40,
          66,
          45,
          38,
          40,
          43,
          55,
          55,
          45,
          38,
          38,
          40,
          43,
          40,
          45,
          36,
          38,
          45,
          45,
          36,
          70,
          34,
          37,
          37,
          45,
          65,
          41,
          38,
          38,
          38,
          40,
          43,
          55,
          45,
          45,
          38,
          38,
          40,
          43,
          40,
          37,
          40,
          43,
          40,
          45,
          36,
          45,
          38,
          38,
          40,
          43,
          40,
          45,
          36,
          38,
          45,
          35,
          36,
          70,
          34,
          37,
          37,
          45,
          65,
          41,
          38,
          38,
          40,
          43,
          40,
          50,
          36,
          50,
          45,
          40,
          43,
          40,
          50,
          36,
          38,
          45,
          34,
          37,
          37,
          45,
          40,
          66,
          45,
          38,
          40,
          43,
          55
         ],
         "y0": " ",
         "yaxis": "y"
        }
       ],
       "layout": {
        "legend": {
         "tracegroupgap": 0
        },
        "margin": {
         "t": 60
        },
        "template": {
         "data": {
          "bar": [
           {
            "error_x": {
             "color": "#2a3f5f"
            },
            "error_y": {
             "color": "#2a3f5f"
            },
            "marker": {
             "line": {
              "color": "#E5ECF6",
              "width": 0.5
             },
             "pattern": {
              "fillmode": "overlay",
              "size": 10,
              "solidity": 0.2
             }
            },
            "type": "bar"
           }
          ],
          "barpolar": [
           {
            "marker": {
             "line": {
              "color": "#E5ECF6",
              "width": 0.5
             },
             "pattern": {
              "fillmode": "overlay",
              "size": 10,
              "solidity": 0.2
             }
            },
            "type": "barpolar"
           }
          ],
          "carpet": [
           {
            "aaxis": {
             "endlinecolor": "#2a3f5f",
             "gridcolor": "white",
             "linecolor": "white",
             "minorgridcolor": "white",
             "startlinecolor": "#2a3f5f"
            },
            "baxis": {
             "endlinecolor": "#2a3f5f",
             "gridcolor": "white",
             "linecolor": "white",
             "minorgridcolor": "white",
             "startlinecolor": "#2a3f5f"
            },
            "type": "carpet"
           }
          ],
          "choropleth": [
           {
            "colorbar": {
             "outlinewidth": 0,
             "ticks": ""
            },
            "type": "choropleth"
           }
          ],
          "contour": [
           {
            "colorbar": {
             "outlinewidth": 0,
             "ticks": ""
            },
            "colorscale": [
             [
              0,
              "#0d0887"
             ],
             [
              0.1111111111111111,
              "#46039f"
             ],
             [
              0.2222222222222222,
              "#7201a8"
             ],
             [
              0.3333333333333333,
              "#9c179e"
             ],
             [
              0.4444444444444444,
              "#bd3786"
             ],
             [
              0.5555555555555556,
              "#d8576b"
             ],
             [
              0.6666666666666666,
              "#ed7953"
             ],
             [
              0.7777777777777778,
              "#fb9f3a"
             ],
             [
              0.8888888888888888,
              "#fdca26"
             ],
             [
              1,
              "#f0f921"
             ]
            ],
            "type": "contour"
           }
          ],
          "contourcarpet": [
           {
            "colorbar": {
             "outlinewidth": 0,
             "ticks": ""
            },
            "type": "contourcarpet"
           }
          ],
          "heatmap": [
           {
            "colorbar": {
             "outlinewidth": 0,
             "ticks": ""
            },
            "colorscale": [
             [
              0,
              "#0d0887"
             ],
             [
              0.1111111111111111,
              "#46039f"
             ],
             [
              0.2222222222222222,
              "#7201a8"
             ],
             [
              0.3333333333333333,
              "#9c179e"
             ],
             [
              0.4444444444444444,
              "#bd3786"
             ],
             [
              0.5555555555555556,
              "#d8576b"
             ],
             [
              0.6666666666666666,
              "#ed7953"
             ],
             [
              0.7777777777777778,
              "#fb9f3a"
             ],
             [
              0.8888888888888888,
              "#fdca26"
             ],
             [
              1,
              "#f0f921"
             ]
            ],
            "type": "heatmap"
           }
          ],
          "heatmapgl": [
           {
            "colorbar": {
             "outlinewidth": 0,
             "ticks": ""
            },
            "colorscale": [
             [
              0,
              "#0d0887"
             ],
             [
              0.1111111111111111,
              "#46039f"
             ],
             [
              0.2222222222222222,
              "#7201a8"
             ],
             [
              0.3333333333333333,
              "#9c179e"
             ],
             [
              0.4444444444444444,
              "#bd3786"
             ],
             [
              0.5555555555555556,
              "#d8576b"
             ],
             [
              0.6666666666666666,
              "#ed7953"
             ],
             [
              0.7777777777777778,
              "#fb9f3a"
             ],
             [
              0.8888888888888888,
              "#fdca26"
             ],
             [
              1,
              "#f0f921"
             ]
            ],
            "type": "heatmapgl"
           }
          ],
          "histogram": [
           {
            "marker": {
             "pattern": {
              "fillmode": "overlay",
              "size": 10,
              "solidity": 0.2
             }
            },
            "type": "histogram"
           }
          ],
          "histogram2d": [
           {
            "colorbar": {
             "outlinewidth": 0,
             "ticks": ""
            },
            "colorscale": [
             [
              0,
              "#0d0887"
             ],
             [
              0.1111111111111111,
              "#46039f"
             ],
             [
              0.2222222222222222,
              "#7201a8"
             ],
             [
              0.3333333333333333,
              "#9c179e"
             ],
             [
              0.4444444444444444,
              "#bd3786"
             ],
             [
              0.5555555555555556,
              "#d8576b"
             ],
             [
              0.6666666666666666,
              "#ed7953"
             ],
             [
              0.7777777777777778,
              "#fb9f3a"
             ],
             [
              0.8888888888888888,
              "#fdca26"
             ],
             [
              1,
              "#f0f921"
             ]
            ],
            "type": "histogram2d"
           }
          ],
          "histogram2dcontour": [
           {
            "colorbar": {
             "outlinewidth": 0,
             "ticks": ""
            },
            "colorscale": [
             [
              0,
              "#0d0887"
             ],
             [
              0.1111111111111111,
              "#46039f"
             ],
             [
              0.2222222222222222,
              "#7201a8"
             ],
             [
              0.3333333333333333,
              "#9c179e"
             ],
             [
              0.4444444444444444,
              "#bd3786"
             ],
             [
              0.5555555555555556,
              "#d8576b"
             ],
             [
              0.6666666666666666,
              "#ed7953"
             ],
             [
              0.7777777777777778,
              "#fb9f3a"
             ],
             [
              0.8888888888888888,
              "#fdca26"
             ],
             [
              1,
              "#f0f921"
             ]
            ],
            "type": "histogram2dcontour"
           }
          ],
          "mesh3d": [
           {
            "colorbar": {
             "outlinewidth": 0,
             "ticks": ""
            },
            "type": "mesh3d"
           }
          ],
          "parcoords": [
           {
            "line": {
             "colorbar": {
              "outlinewidth": 0,
              "ticks": ""
             }
            },
            "type": "parcoords"
           }
          ],
          "pie": [
           {
            "automargin": true,
            "type": "pie"
           }
          ],
          "scatter": [
           {
            "marker": {
             "colorbar": {
              "outlinewidth": 0,
              "ticks": ""
             }
            },
            "type": "scatter"
           }
          ],
          "scatter3d": [
           {
            "line": {
             "colorbar": {
              "outlinewidth": 0,
              "ticks": ""
             }
            },
            "marker": {
             "colorbar": {
              "outlinewidth": 0,
              "ticks": ""
             }
            },
            "type": "scatter3d"
           }
          ],
          "scattercarpet": [
           {
            "marker": {
             "colorbar": {
              "outlinewidth": 0,
              "ticks": ""
             }
            },
            "type": "scattercarpet"
           }
          ],
          "scattergeo": [
           {
            "marker": {
             "colorbar": {
              "outlinewidth": 0,
              "ticks": ""
             }
            },
            "type": "scattergeo"
           }
          ],
          "scattergl": [
           {
            "marker": {
             "colorbar": {
              "outlinewidth": 0,
              "ticks": ""
             }
            },
            "type": "scattergl"
           }
          ],
          "scattermapbox": [
           {
            "marker": {
             "colorbar": {
              "outlinewidth": 0,
              "ticks": ""
             }
            },
            "type": "scattermapbox"
           }
          ],
          "scatterpolar": [
           {
            "marker": {
             "colorbar": {
              "outlinewidth": 0,
              "ticks": ""
             }
            },
            "type": "scatterpolar"
           }
          ],
          "scatterpolargl": [
           {
            "marker": {
             "colorbar": {
              "outlinewidth": 0,
              "ticks": ""
             }
            },
            "type": "scatterpolargl"
           }
          ],
          "scatterternary": [
           {
            "marker": {
             "colorbar": {
              "outlinewidth": 0,
              "ticks": ""
             }
            },
            "type": "scatterternary"
           }
          ],
          "surface": [
           {
            "colorbar": {
             "outlinewidth": 0,
             "ticks": ""
            },
            "colorscale": [
             [
              0,
              "#0d0887"
             ],
             [
              0.1111111111111111,
              "#46039f"
             ],
             [
              0.2222222222222222,
              "#7201a8"
             ],
             [
              0.3333333333333333,
              "#9c179e"
             ],
             [
              0.4444444444444444,
              "#bd3786"
             ],
             [
              0.5555555555555556,
              "#d8576b"
             ],
             [
              0.6666666666666666,
              "#ed7953"
             ],
             [
              0.7777777777777778,
              "#fb9f3a"
             ],
             [
              0.8888888888888888,
              "#fdca26"
             ],
             [
              1,
              "#f0f921"
             ]
            ],
            "type": "surface"
           }
          ],
          "table": [
           {
            "cells": {
             "fill": {
              "color": "#EBF0F8"
             },
             "line": {
              "color": "white"
             }
            },
            "header": {
             "fill": {
              "color": "#C8D4E3"
             },
             "line": {
              "color": "white"
             }
            },
            "type": "table"
           }
          ]
         },
         "layout": {
          "annotationdefaults": {
           "arrowcolor": "#2a3f5f",
           "arrowhead": 0,
           "arrowwidth": 1
          },
          "autotypenumbers": "strict",
          "coloraxis": {
           "colorbar": {
            "outlinewidth": 0,
            "ticks": ""
           }
          },
          "colorscale": {
           "diverging": [
            [
             0,
             "#8e0152"
            ],
            [
             0.1,
             "#c51b7d"
            ],
            [
             0.2,
             "#de77ae"
            ],
            [
             0.3,
             "#f1b6da"
            ],
            [
             0.4,
             "#fde0ef"
            ],
            [
             0.5,
             "#f7f7f7"
            ],
            [
             0.6,
             "#e6f5d0"
            ],
            [
             0.7,
             "#b8e186"
            ],
            [
             0.8,
             "#7fbc41"
            ],
            [
             0.9,
             "#4d9221"
            ],
            [
             1,
             "#276419"
            ]
           ],
           "sequential": [
            [
             0,
             "#0d0887"
            ],
            [
             0.1111111111111111,
             "#46039f"
            ],
            [
             0.2222222222222222,
             "#7201a8"
            ],
            [
             0.3333333333333333,
             "#9c179e"
            ],
            [
             0.4444444444444444,
             "#bd3786"
            ],
            [
             0.5555555555555556,
             "#d8576b"
            ],
            [
             0.6666666666666666,
             "#ed7953"
            ],
            [
             0.7777777777777778,
             "#fb9f3a"
            ],
            [
             0.8888888888888888,
             "#fdca26"
            ],
            [
             1,
             "#f0f921"
            ]
           ],
           "sequentialminus": [
            [
             0,
             "#0d0887"
            ],
            [
             0.1111111111111111,
             "#46039f"
            ],
            [
             0.2222222222222222,
             "#7201a8"
            ],
            [
             0.3333333333333333,
             "#9c179e"
            ],
            [
             0.4444444444444444,
             "#bd3786"
            ],
            [
             0.5555555555555556,
             "#d8576b"
            ],
            [
             0.6666666666666666,
             "#ed7953"
            ],
            [
             0.7777777777777778,
             "#fb9f3a"
            ],
            [
             0.8888888888888888,
             "#fdca26"
            ],
            [
             1,
             "#f0f921"
            ]
           ]
          },
          "colorway": [
           "#636efa",
           "#EF553B",
           "#00cc96",
           "#ab63fa",
           "#FFA15A",
           "#19d3f3",
           "#FF6692",
           "#B6E880",
           "#FF97FF",
           "#FECB52"
          ],
          "font": {
           "color": "#2a3f5f"
          },
          "geo": {
           "bgcolor": "white",
           "lakecolor": "white",
           "landcolor": "#E5ECF6",
           "showlakes": true,
           "showland": true,
           "subunitcolor": "white"
          },
          "hoverlabel": {
           "align": "left"
          },
          "hovermode": "closest",
          "mapbox": {
           "style": "light"
          },
          "paper_bgcolor": "white",
          "plot_bgcolor": "#E5ECF6",
          "polar": {
           "angularaxis": {
            "gridcolor": "white",
            "linecolor": "white",
            "ticks": ""
           },
           "bgcolor": "#E5ECF6",
           "radialaxis": {
            "gridcolor": "white",
            "linecolor": "white",
            "ticks": ""
           }
          },
          "scene": {
           "xaxis": {
            "backgroundcolor": "#E5ECF6",
            "gridcolor": "white",
            "gridwidth": 2,
            "linecolor": "white",
            "showbackground": true,
            "ticks": "",
            "zerolinecolor": "white"
           },
           "yaxis": {
            "backgroundcolor": "#E5ECF6",
            "gridcolor": "white",
            "gridwidth": 2,
            "linecolor": "white",
            "showbackground": true,
            "ticks": "",
            "zerolinecolor": "white"
           },
           "zaxis": {
            "backgroundcolor": "#E5ECF6",
            "gridcolor": "white",
            "gridwidth": 2,
            "linecolor": "white",
            "showbackground": true,
            "ticks": "",
            "zerolinecolor": "white"
           }
          },
          "shapedefaults": {
           "line": {
            "color": "#2a3f5f"
           }
          },
          "ternary": {
           "aaxis": {
            "gridcolor": "white",
            "linecolor": "white",
            "ticks": ""
           },
           "baxis": {
            "gridcolor": "white",
            "linecolor": "white",
            "ticks": ""
           },
           "bgcolor": "#E5ECF6",
           "caxis": {
            "gridcolor": "white",
            "linecolor": "white",
            "ticks": ""
           }
          },
          "title": {
           "x": 0.05
          },
          "xaxis": {
           "automargin": true,
           "gridcolor": "white",
           "linecolor": "white",
           "ticks": "",
           "title": {
            "standoff": 15
           },
           "zerolinecolor": "white",
           "zerolinewidth": 2
          },
          "yaxis": {
           "automargin": true,
           "gridcolor": "white",
           "linecolor": "white",
           "ticks": "",
           "title": {
            "standoff": 15
           },
           "zerolinecolor": "white",
           "zerolinewidth": 2
          }
         }
        },
        "violinmode": "group",
        "xaxis": {
         "anchor": "y",
         "domain": [
          0,
          1
         ]
        },
        "yaxis": {
         "anchor": "x",
         "domain": [
          0,
          1
         ],
         "title": {
          "text": "Temprature"
         }
        }
       }
      },
      "text/html": [
       "<div>                            <div id=\"9ac281a2-ebcb-433a-b90c-eb29275faac0\" class=\"plotly-graph-div\" style=\"height:525px; width:100%;\"></div>            <script type=\"text/javascript\">                require([\"plotly\"], function(Plotly) {                    window.PLOTLYENV=window.PLOTLYENV || {};                                    if (document.getElementById(\"9ac281a2-ebcb-433a-b90c-eb29275faac0\")) {                    Plotly.newPlot(                        \"9ac281a2-ebcb-433a-b90c-eb29275faac0\",                        [{\"alignmentgroup\":\"True\",\"box\":{\"visible\":true},\"hovertemplate\":\"Temprature=%{y}<extra></extra>\",\"legendgroup\":\"\",\"marker\":{\"color\":\"#636efa\"},\"name\":\"\",\"offsetgroup\":\"\",\"orientation\":\"v\",\"points\":\"all\",\"scalegroup\":\"True\",\"showlegend\":false,\"type\":\"violin\",\"x0\":\" \",\"xaxis\":\"x\",\"y\":[35,36,70,34,37,37,45,60,66,45,45,50,55,90,45,38,38,40,43,40,45,36,38,45,35,36,70,34,37,37,45,40,42,41,50,45,55,65,41,38,38,40,43,40,45,36,38,45,34,37,37,45,60,66,45,45,50,55,90,45,38,38,40,43,55,45,45,38,38,40,43,40,45,36,38,45,35,36,70,34,37,37,45,65,41,38,38,40,43,40,50,36,50,45,34,37,34,37,37,45,60,66,45,45,50,35,90,50,38,38,40,43,55,45,45,38,38,40,43,40,45,36,38,45,55,36,70,40,45,36,38,45,35,36,70,34,37,37,45,65,41,38,38,40,43,40,50,36,50,45,34,37,34,37,37,45,60,66,45,45,50,35,90,50,38,41,50,45,55,65,41,38,38,40,43,40,45,36,38,45,34,37,37,45,60,66,45,45,50,55,90,45,38,38,40,43,55,45,45,38,38,40,43,40,37,37,45,60,66,45,45,50,55,90,45,38,38,40,43,55,45,45,38,38,40,43,40,45,36,38,45,35,36,70,34,37,37,45,65,41,38,38,40,43,38,38,40,43,55,45,45,38,38,40,43,40,45,36,38,45,55,36,70,40,45,36,38,45,35,36,70,34,43,40,50,36,50,45,34,37,34,37,37,45,60,66,45,45,50,35,90,50,38,41,50,45,55,65,41,38,38,40,43,40,45,36,38,45,34,37,37,45,60,66,45,45,50,55,90,45,38,38,40,43,55,45,45,38,38,40,43,40,37,37,45,60,66,45,45,50,55,90,45,38,38,40,43,55,45,45,38,38,40,43,40,45,36,38,45,35,36,70,34,37,37,45,65,41,38,38,40,43,38,38,40,43,55,45,45,38,38,40,43,40,45,36,45,38,38,40,43,40,45,36,38,45,35,36,70,34,37,37,45,65,41,38,38,40,43,40,50,36,50,45,34,37,34,37,37,45,60,66,45,45,50,35,90,50,38,38,40,43,55,45,45,38,38,40,43,40,45,36,38,45,55,36,70,40,45,36,38,45,35,36,70,50,45,34,37,34,37,37,45,60,66,45,45,50,35,90,50,38,38,40,43,55,45,45,38,38,40,43,40,45,36,38,45,55,36,70,40,45,36,38,45,35,36,70,34,37,37,45,65,41,38,38,40,43,40,50,36,50,45,34,37,34,37,37,45,60,66,45,45,50,35,90,50,38,41,50,45,45,65,41,38,38,40,43,40,50,36,38,45,34,37,37,45,40,66,45,38,40,43,55,55,45,38,38,40,43,40,45,36,38,45,50,36,70,34,37,37,45,65,41,38,38,40,43,38,38,40,43,41,38,38,40,43,40,50,36,50,45,34,37,34,37,37,45,60,66,45,45,50,35,90,50,38,41,50,45,45,65,41,38,38,40,43,40,50,36,38,45,34,37,37,45,40,66,45,38,40,43,55,55,45,38,38,40,43,40,45,36,38,45,50,36,70,34,37,37,45,65,41,38,38,38,40,43,55,45,45,38,38,40,43,40,37,37,45,60,66,45,45,50,55,90,45,38,38,40,43,55,45,45,38,38,40,43,40,45,36,38,45,35,36,70,34,37,37,45,65,41,38,38,40,43,38,38,40,43,55,45,45,38,38,40,43,40,45,36,45,38,38,40,43,40,45,36,38,45,45,60,66,45,45,50,35,90,50,38,41,50,45,55,65,41,38,38,40,43,40,45,36,38,45,34,37,37,45,60,66,45,45,50,55,90,45,38,38,40,43,55,45,45,38,38,40,43,40,37,37,45,60,66,45,45,50,55,90,45,38,38,40,43,55,45,45,38,38,40,43,40,45,36,38,45,35,36,70,34,37,37,45,65,41,38,38,40,43,38,38,40,43,55,45,45,38,38,40,43,40,45,36,45,38,38,40,43,40,45,36,38,45,35,36,70,34,37,37,45,65,41,38,38,40,43,40,50,36,50,45,40,43,40,50,36,38,45,34,37,37,45,40,66,45,38,40,43,55,55,45,38,38,40,43,40,45,36,38,45,50,37,45,65,41,38,38,38,40,43,55,45,45,38,38,40,43,40,37,37,45,40,66,45,45,50,55,41,50,45,55,65,41,38,38,40,43,40,45,36,38,45,34,37,37,45,60,66,45,45,50,55,45,43,40,45,36,38,45,35,36,70,34,37,37,45,65,41,38,38,40,43,38,38,40,43,55,40,66,45,38,40,43,55,55,45,38,38,40,43,40,45,36,38,45,45,36,70,34,37,37,45,65,41,38,38,38,40,43,55,45,45,38,38,40,43,40,37,40,43,40,45,36,45,38,38,40,43,40,45,36,38,45,35,36,70,34,37,37,45,65,41,38,38,40,43,40,50,36,50,45,40,43,40,50,36,38,45,34,37,37,45,40,66,45,38,40,43,55],\"y0\":\" \",\"yaxis\":\"y\"}],                        {\"legend\":{\"tracegroupgap\":0},\"margin\":{\"t\":60},\"template\":{\"data\":{\"bar\":[{\"error_x\":{\"color\":\"#2a3f5f\"},\"error_y\":{\"color\":\"#2a3f5f\"},\"marker\":{\"line\":{\"color\":\"#E5ECF6\",\"width\":0.5},\"pattern\":{\"fillmode\":\"overlay\",\"size\":10,\"solidity\":0.2}},\"type\":\"bar\"}],\"barpolar\":[{\"marker\":{\"line\":{\"color\":\"#E5ECF6\",\"width\":0.5},\"pattern\":{\"fillmode\":\"overlay\",\"size\":10,\"solidity\":0.2}},\"type\":\"barpolar\"}],\"carpet\":[{\"aaxis\":{\"endlinecolor\":\"#2a3f5f\",\"gridcolor\":\"white\",\"linecolor\":\"white\",\"minorgridcolor\":\"white\",\"startlinecolor\":\"#2a3f5f\"},\"baxis\":{\"endlinecolor\":\"#2a3f5f\",\"gridcolor\":\"white\",\"linecolor\":\"white\",\"minorgridcolor\":\"white\",\"startlinecolor\":\"#2a3f5f\"},\"type\":\"carpet\"}],\"choropleth\":[{\"colorbar\":{\"outlinewidth\":0,\"ticks\":\"\"},\"type\":\"choropleth\"}],\"contour\":[{\"colorbar\":{\"outlinewidth\":0,\"ticks\":\"\"},\"colorscale\":[[0.0,\"#0d0887\"],[0.1111111111111111,\"#46039f\"],[0.2222222222222222,\"#7201a8\"],[0.3333333333333333,\"#9c179e\"],[0.4444444444444444,\"#bd3786\"],[0.5555555555555556,\"#d8576b\"],[0.6666666666666666,\"#ed7953\"],[0.7777777777777778,\"#fb9f3a\"],[0.8888888888888888,\"#fdca26\"],[1.0,\"#f0f921\"]],\"type\":\"contour\"}],\"contourcarpet\":[{\"colorbar\":{\"outlinewidth\":0,\"ticks\":\"\"},\"type\":\"contourcarpet\"}],\"heatmap\":[{\"colorbar\":{\"outlinewidth\":0,\"ticks\":\"\"},\"colorscale\":[[0.0,\"#0d0887\"],[0.1111111111111111,\"#46039f\"],[0.2222222222222222,\"#7201a8\"],[0.3333333333333333,\"#9c179e\"],[0.4444444444444444,\"#bd3786\"],[0.5555555555555556,\"#d8576b\"],[0.6666666666666666,\"#ed7953\"],[0.7777777777777778,\"#fb9f3a\"],[0.8888888888888888,\"#fdca26\"],[1.0,\"#f0f921\"]],\"type\":\"heatmap\"}],\"heatmapgl\":[{\"colorbar\":{\"outlinewidth\":0,\"ticks\":\"\"},\"colorscale\":[[0.0,\"#0d0887\"],[0.1111111111111111,\"#46039f\"],[0.2222222222222222,\"#7201a8\"],[0.3333333333333333,\"#9c179e\"],[0.4444444444444444,\"#bd3786\"],[0.5555555555555556,\"#d8576b\"],[0.6666666666666666,\"#ed7953\"],[0.7777777777777778,\"#fb9f3a\"],[0.8888888888888888,\"#fdca26\"],[1.0,\"#f0f921\"]],\"type\":\"heatmapgl\"}],\"histogram\":[{\"marker\":{\"pattern\":{\"fillmode\":\"overlay\",\"size\":10,\"solidity\":0.2}},\"type\":\"histogram\"}],\"histogram2d\":[{\"colorbar\":{\"outlinewidth\":0,\"ticks\":\"\"},\"colorscale\":[[0.0,\"#0d0887\"],[0.1111111111111111,\"#46039f\"],[0.2222222222222222,\"#7201a8\"],[0.3333333333333333,\"#9c179e\"],[0.4444444444444444,\"#bd3786\"],[0.5555555555555556,\"#d8576b\"],[0.6666666666666666,\"#ed7953\"],[0.7777777777777778,\"#fb9f3a\"],[0.8888888888888888,\"#fdca26\"],[1.0,\"#f0f921\"]],\"type\":\"histogram2d\"}],\"histogram2dcontour\":[{\"colorbar\":{\"outlinewidth\":0,\"ticks\":\"\"},\"colorscale\":[[0.0,\"#0d0887\"],[0.1111111111111111,\"#46039f\"],[0.2222222222222222,\"#7201a8\"],[0.3333333333333333,\"#9c179e\"],[0.4444444444444444,\"#bd3786\"],[0.5555555555555556,\"#d8576b\"],[0.6666666666666666,\"#ed7953\"],[0.7777777777777778,\"#fb9f3a\"],[0.8888888888888888,\"#fdca26\"],[1.0,\"#f0f921\"]],\"type\":\"histogram2dcontour\"}],\"mesh3d\":[{\"colorbar\":{\"outlinewidth\":0,\"ticks\":\"\"},\"type\":\"mesh3d\"}],\"parcoords\":[{\"line\":{\"colorbar\":{\"outlinewidth\":0,\"ticks\":\"\"}},\"type\":\"parcoords\"}],\"pie\":[{\"automargin\":true,\"type\":\"pie\"}],\"scatter\":[{\"marker\":{\"colorbar\":{\"outlinewidth\":0,\"ticks\":\"\"}},\"type\":\"scatter\"}],\"scatter3d\":[{\"line\":{\"colorbar\":{\"outlinewidth\":0,\"ticks\":\"\"}},\"marker\":{\"colorbar\":{\"outlinewidth\":0,\"ticks\":\"\"}},\"type\":\"scatter3d\"}],\"scattercarpet\":[{\"marker\":{\"colorbar\":{\"outlinewidth\":0,\"ticks\":\"\"}},\"type\":\"scattercarpet\"}],\"scattergeo\":[{\"marker\":{\"colorbar\":{\"outlinewidth\":0,\"ticks\":\"\"}},\"type\":\"scattergeo\"}],\"scattergl\":[{\"marker\":{\"colorbar\":{\"outlinewidth\":0,\"ticks\":\"\"}},\"type\":\"scattergl\"}],\"scattermapbox\":[{\"marker\":{\"colorbar\":{\"outlinewidth\":0,\"ticks\":\"\"}},\"type\":\"scattermapbox\"}],\"scatterpolar\":[{\"marker\":{\"colorbar\":{\"outlinewidth\":0,\"ticks\":\"\"}},\"type\":\"scatterpolar\"}],\"scatterpolargl\":[{\"marker\":{\"colorbar\":{\"outlinewidth\":0,\"ticks\":\"\"}},\"type\":\"scatterpolargl\"}],\"scatterternary\":[{\"marker\":{\"colorbar\":{\"outlinewidth\":0,\"ticks\":\"\"}},\"type\":\"scatterternary\"}],\"surface\":[{\"colorbar\":{\"outlinewidth\":0,\"ticks\":\"\"},\"colorscale\":[[0.0,\"#0d0887\"],[0.1111111111111111,\"#46039f\"],[0.2222222222222222,\"#7201a8\"],[0.3333333333333333,\"#9c179e\"],[0.4444444444444444,\"#bd3786\"],[0.5555555555555556,\"#d8576b\"],[0.6666666666666666,\"#ed7953\"],[0.7777777777777778,\"#fb9f3a\"],[0.8888888888888888,\"#fdca26\"],[1.0,\"#f0f921\"]],\"type\":\"surface\"}],\"table\":[{\"cells\":{\"fill\":{\"color\":\"#EBF0F8\"},\"line\":{\"color\":\"white\"}},\"header\":{\"fill\":{\"color\":\"#C8D4E3\"},\"line\":{\"color\":\"white\"}},\"type\":\"table\"}]},\"layout\":{\"annotationdefaults\":{\"arrowcolor\":\"#2a3f5f\",\"arrowhead\":0,\"arrowwidth\":1},\"autotypenumbers\":\"strict\",\"coloraxis\":{\"colorbar\":{\"outlinewidth\":0,\"ticks\":\"\"}},\"colorscale\":{\"diverging\":[[0,\"#8e0152\"],[0.1,\"#c51b7d\"],[0.2,\"#de77ae\"],[0.3,\"#f1b6da\"],[0.4,\"#fde0ef\"],[0.5,\"#f7f7f7\"],[0.6,\"#e6f5d0\"],[0.7,\"#b8e186\"],[0.8,\"#7fbc41\"],[0.9,\"#4d9221\"],[1,\"#276419\"]],\"sequential\":[[0.0,\"#0d0887\"],[0.1111111111111111,\"#46039f\"],[0.2222222222222222,\"#7201a8\"],[0.3333333333333333,\"#9c179e\"],[0.4444444444444444,\"#bd3786\"],[0.5555555555555556,\"#d8576b\"],[0.6666666666666666,\"#ed7953\"],[0.7777777777777778,\"#fb9f3a\"],[0.8888888888888888,\"#fdca26\"],[1.0,\"#f0f921\"]],\"sequentialminus\":[[0.0,\"#0d0887\"],[0.1111111111111111,\"#46039f\"],[0.2222222222222222,\"#7201a8\"],[0.3333333333333333,\"#9c179e\"],[0.4444444444444444,\"#bd3786\"],[0.5555555555555556,\"#d8576b\"],[0.6666666666666666,\"#ed7953\"],[0.7777777777777778,\"#fb9f3a\"],[0.8888888888888888,\"#fdca26\"],[1.0,\"#f0f921\"]]},\"colorway\":[\"#636efa\",\"#EF553B\",\"#00cc96\",\"#ab63fa\",\"#FFA15A\",\"#19d3f3\",\"#FF6692\",\"#B6E880\",\"#FF97FF\",\"#FECB52\"],\"font\":{\"color\":\"#2a3f5f\"},\"geo\":{\"bgcolor\":\"white\",\"lakecolor\":\"white\",\"landcolor\":\"#E5ECF6\",\"showlakes\":true,\"showland\":true,\"subunitcolor\":\"white\"},\"hoverlabel\":{\"align\":\"left\"},\"hovermode\":\"closest\",\"mapbox\":{\"style\":\"light\"},\"paper_bgcolor\":\"white\",\"plot_bgcolor\":\"#E5ECF6\",\"polar\":{\"angularaxis\":{\"gridcolor\":\"white\",\"linecolor\":\"white\",\"ticks\":\"\"},\"bgcolor\":\"#E5ECF6\",\"radialaxis\":{\"gridcolor\":\"white\",\"linecolor\":\"white\",\"ticks\":\"\"}},\"scene\":{\"xaxis\":{\"backgroundcolor\":\"#E5ECF6\",\"gridcolor\":\"white\",\"gridwidth\":2,\"linecolor\":\"white\",\"showbackground\":true,\"ticks\":\"\",\"zerolinecolor\":\"white\"},\"yaxis\":{\"backgroundcolor\":\"#E5ECF6\",\"gridcolor\":\"white\",\"gridwidth\":2,\"linecolor\":\"white\",\"showbackground\":true,\"ticks\":\"\",\"zerolinecolor\":\"white\"},\"zaxis\":{\"backgroundcolor\":\"#E5ECF6\",\"gridcolor\":\"white\",\"gridwidth\":2,\"linecolor\":\"white\",\"showbackground\":true,\"ticks\":\"\",\"zerolinecolor\":\"white\"}},\"shapedefaults\":{\"line\":{\"color\":\"#2a3f5f\"}},\"ternary\":{\"aaxis\":{\"gridcolor\":\"white\",\"linecolor\":\"white\",\"ticks\":\"\"},\"baxis\":{\"gridcolor\":\"white\",\"linecolor\":\"white\",\"ticks\":\"\"},\"bgcolor\":\"#E5ECF6\",\"caxis\":{\"gridcolor\":\"white\",\"linecolor\":\"white\",\"ticks\":\"\"}},\"title\":{\"x\":0.05},\"xaxis\":{\"automargin\":true,\"gridcolor\":\"white\",\"linecolor\":\"white\",\"ticks\":\"\",\"title\":{\"standoff\":15},\"zerolinecolor\":\"white\",\"zerolinewidth\":2},\"yaxis\":{\"automargin\":true,\"gridcolor\":\"white\",\"linecolor\":\"white\",\"ticks\":\"\",\"title\":{\"standoff\":15},\"zerolinecolor\":\"white\",\"zerolinewidth\":2}}},\"violinmode\":\"group\",\"xaxis\":{\"anchor\":\"y\",\"domain\":[0.0,1.0]},\"yaxis\":{\"anchor\":\"x\",\"domain\":[0.0,1.0],\"title\":{\"text\":\"Temprature\"}}},                        {\"responsive\": true}                    ).then(function(){\n",
       "                            \n",
       "var gd = document.getElementById('9ac281a2-ebcb-433a-b90c-eb29275faac0');\n",
       "var x = new MutationObserver(function (mutations, observer) {{\n",
       "        var display = window.getComputedStyle(gd).display;\n",
       "        if (!display || display === 'none') {{\n",
       "            console.log([gd, 'removed!']);\n",
       "            Plotly.purge(gd);\n",
       "            observer.disconnect();\n",
       "        }}\n",
       "}});\n",
       "\n",
       "// Listen for the removal of the full notebook cells\n",
       "var notebookContainer = gd.closest('#notebook-container');\n",
       "if (notebookContainer) {{\n",
       "    x.observe(notebookContainer, {childList: true});\n",
       "}}\n",
       "\n",
       "// Listen for the clearing of the current output cell\n",
       "var outputEl = gd.closest('.output');\n",
       "if (outputEl) {{\n",
       "    x.observe(outputEl, {childList: true});\n",
       "}}\n",
       "\n",
       "                        })                };                });            </script>        </div>"
      ]
     },
     "metadata": {},
     "output_type": "display_data"
    }
   ],
   "source": [
    "# graficamos diagrama de violín con data y diagrama de caja para la variable Temprature\n",
    "fig = px.violin(df, y=\"Temprature\", box=True, \n",
    "                points='all', \n",
    "               )\n",
    "fig.show()"
   ]
  },
  {
   "cell_type": "markdown",
   "id": "60f18a54",
   "metadata": {},
   "source": [
    "De acuerdo al Dataset, contamos con temperatura que va desde 34° hasta 90° con una media o promedio de 44° en la evaluación de la calidad de la leche. La mayor densidad de datos para la varibale temperatura la tenemos en 38º (q1), y le sigue en 45º(q3). \n",
    "Así mismo, se cuentan con valores ácidos (pH<7.0) y básicos (pH>7.0) para la leche.Y tenemos una mayor densidad de datos para el rango comprendido entre 6.5 y 6.8 (quartiles 1 y 3)."
   ]
  },
  {
   "cell_type": "markdown",
   "id": "022b075a",
   "metadata": {},
   "source": [
    "# Normalización y estandarización de las características"
   ]
  },
  {
   "cell_type": "markdown",
   "id": "564e6a80",
   "metadata": {},
   "source": [
    "A continuación definimos el conjunto de datos que se usará para entrenamiento y el conjunto de datos que se usarán para prueba mediante la función train_test_split"
   ]
  },
  {
   "cell_type": "code",
   "execution_count": 312,
   "id": "33b23582",
   "metadata": {},
   "outputs": [],
   "source": [
    "from sklearn.model_selection import train_test_split\n",
    "\n",
    "X, y = df.iloc[:,:7].values, df.iloc[:, 7].values\n",
    "\n",
    "X_train, X_test, y_train, y_test =\\\n",
    "    train_test_split(X, y, \n",
    "                     test_size=0.3, \n",
    "                     random_state=0, \n",
    "                     stratify=y)"
   ]
  },
  {
   "cell_type": "markdown",
   "id": "92cf7345",
   "metadata": {},
   "source": [
    "Asignamos el 30% de las muestras de vino a evaluación y 70% restante de las muestras a entrenamiento. Hacemos uso de estratify para garantizar que el conjunto de datos de prueba y el de entrenamiento tengan las mismas proporciones de clase que el conjunto de datos original."
   ]
  },
  {
   "cell_type": "markdown",
   "id": "2ba41f25",
   "metadata": {},
   "source": [
    "Mediante la Normalización queremos realizar un re-escalado de las características en un rango de cero a uno [0,1] y se puede realizar del siguiente modo:"
   ]
  },
  {
   "cell_type": "code",
   "execution_count": 313,
   "id": "4777c088",
   "metadata": {},
   "outputs": [],
   "source": [
    "from sklearn.preprocessing import MinMaxScaler\n",
    "\n",
    "mms = MinMaxScaler()\n",
    "X_train_norm = mms.fit_transform(X_train)\n",
    "X_test_norm = mms.transform(X_test)"
   ]
  },
  {
   "cell_type": "code",
   "execution_count": 314,
   "id": "66b5cad9",
   "metadata": {},
   "outputs": [],
   "source": [
    "from sklearn.preprocessing import StandardScaler\n",
    "\n",
    "stdsc = StandardScaler()\n",
    "X_train_std = stdsc.fit_transform(X_train_norm)\n",
    "X_test_std = stdsc.transform(X_test_norm)"
   ]
  },
  {
   "cell_type": "markdown",
   "id": "37bd4c38",
   "metadata": {},
   "source": [
    "Teniendo en cuenta que el dataset presenta valores continuos para la variable objetivo (Grade), se hace necesario realizar un preprocesamiento de éstos datos para poder cotinuar con el uso de los modelos de regresión logística y KNN. Vamos a realizar esto mediante el uso de LabelEncoder con el fin de hacer uso de los números enteros 0, 1 y 2 para definir la calidad de la leche como mala, regular y buena, respectivamente."
   ]
  },
  {
   "cell_type": "code",
   "execution_count": 315,
   "id": "160b3433",
   "metadata": {},
   "outputs": [],
   "source": [
    "from sklearn import preprocessing\n",
    "from sklearn import utils"
   ]
  },
  {
   "cell_type": "code",
   "execution_count": 316,
   "id": "3efe6eb5",
   "metadata": {
    "scrolled": true
   },
   "outputs": [
    {
     "name": "stdout",
     "output_type": "stream",
     "text": [
      "multiclass\n",
      "multiclass\n",
      "multiclass\n"
     ]
    }
   ],
   "source": [
    "# Hacemos uso de LabelEncoder para eliminar el error asociado al uso de variables continuas \n",
    "# para nuestro parámetro objetivo. En este caso, para los datos de entrenamiento de la variable 'Grade'\n",
    "\n",
    "lab_enc = preprocessing.LabelEncoder()\n",
    "y_train = lab_enc.fit_transform(y_train)\n",
    "#print(training_scores_encoded)\n",
    "print(utils.multiclass.type_of_target(y_train))\n",
    "print(utils.multiclass.type_of_target(y_train.astype('int')))\n",
    "print(utils.multiclass.type_of_target(y_train))"
   ]
  },
  {
   "cell_type": "code",
   "execution_count": 317,
   "id": "f3afb006",
   "metadata": {},
   "outputs": [],
   "source": [
    "# ... En este caso, para los datos de evaluación de la variable 'Grade'\n",
    "\n",
    "lab_enc = preprocessing.LabelEncoder()\n",
    "y_test = lab_enc.fit_transform(y_test)\n",
    "y = lab_enc.fit_transform(y)"
   ]
  },
  {
   "cell_type": "markdown",
   "id": "ce8f8ddd",
   "metadata": {},
   "source": [
    "A continuación, vamos a evaluar el rendimiento del clasificador KNN en el conjunto de prueba original"
   ]
  },
  {
   "cell_type": "code",
   "execution_count": 265,
   "id": "ddbb34a3",
   "metadata": {},
   "outputs": [],
   "source": [
    "knn = KNeighborsClassifier(n_neighbors=5)"
   ]
  },
  {
   "cell_type": "code",
   "execution_count": 266,
   "id": "2b0ba4b2",
   "metadata": {},
   "outputs": [
    {
     "name": "stdout",
     "output_type": "stream",
     "text": [
      "Training accuracy: 0.9946018893387314\n",
      "Test accuracy: 0.9905660377358491\n"
     ]
    }
   ],
   "source": [
    "knn.fit(X_train_std, y_train)\n",
    "print('Training accuracy:', knn.score(X_train_std, y_train))\n",
    "print('Test accuracy:', knn.score(X_test_std, y_test))"
   ]
  },
  {
   "cell_type": "markdown",
   "id": "b4dd78bc",
   "metadata": {},
   "source": [
    "A continuación, vamos a evaluar el rendimiento del clasificador de regresión logística en el conjunto de prueba original"
   ]
  },
  {
   "cell_type": "code",
   "execution_count": 267,
   "id": "fc6ebc14",
   "metadata": {},
   "outputs": [
    {
     "name": "stdout",
     "output_type": "stream",
     "text": [
      "Training accuracy: 0.8475033738191633\n",
      "Test accuracy: 0.8679245283018868\n"
     ]
    }
   ],
   "source": [
    "from sklearn.linear_model import LogisticRegression\n",
    "\n",
    "lr = LogisticRegression()\n",
    "lr.fit(X_train_std, y_train)\n",
    "print('Training accuracy:', lr.score(X_train_std, y_train))\n",
    "print('Test accuracy:', lr.score(X_test_std, y_test))"
   ]
  },
  {
   "cell_type": "markdown",
   "id": "ee74eb20",
   "metadata": {},
   "source": [
    "De acuerdo a esos resultados, podemos pensar que nuestro modelo de clasificación KNN ya generaliza bien los nuevos datos"
   ]
  },
  {
   "cell_type": "markdown",
   "id": "5b442ef9",
   "metadata": {},
   "source": [
    "# Importancia de las características"
   ]
  },
  {
   "cell_type": "markdown",
   "id": "8424420b",
   "metadata": {},
   "source": [
    "## 1. Haciendo uso de feature_selection"
   ]
  },
  {
   "cell_type": "code",
   "execution_count": 279,
   "id": "28329fba",
   "metadata": {},
   "outputs": [
    {
     "name": "stdout",
     "output_type": "stream",
     "text": [
      " 1) pH                             0.395985\n",
      " 2) Temprature                     0.227842\n",
      " 3) Turbidity                      0.094503\n",
      " 4) Fat                            0.087493\n",
      " 5) Odor                           0.083966\n",
      " 6) Colour                         0.062951\n",
      " 7) Taste                          0.047260\n"
     ]
    },
    {
     "data": {
      "image/png": "[encoded data removed]",
      "text/plain": [
       "<Figure size 432x288 with 1 Axes>"
      ]
     },
     "metadata": {
      "needs_background": "light"
     },
     "output_type": "display_data"
    }
   ],
   "source": [
    "from sklearn.ensemble import RandomForestClassifier\n",
    "\n",
    "feat_labels = df.columns[:7]\n",
    "\n",
    "forest = RandomForestClassifier(n_estimators=500,\n",
    "                                random_state=1)\n",
    "\n",
    "forest.fit(X_train, y_train)\n",
    "importances = forest.feature_importances_\n",
    "\n",
    "indices = np.argsort(importances)[::-1]\n",
    "\n",
    "for f in range(X_train.shape[1]):\n",
    "    print(\"%2d) %-*s %f\" % (f + 1, 30, \n",
    "                            feat_labels[indices[f]], \n",
    "                            importances[indices[f]]))\n",
    "\n",
    "plt.title('Importancia de las características')\n",
    "plt.bar(range(X_train.shape[1]), \n",
    "        importances[indices],\n",
    "        align='center')\n",
    "\n",
    "plt.xticks(range(X_train.shape[1]), \n",
    "           feat_labels[indices], rotation=90)\n",
    "plt.xlim([-1, X_train.shape[1]])\n",
    "plt.tight_layout()\n",
    "plt.show()"
   ]
  },
  {
   "cell_type": "markdown",
   "id": "e0c681c9",
   "metadata": {},
   "source": [
    "Vamos a reducir el conjunto de datos a las dos características más importantes mediante el uso de 'feature_selection'"
   ]
  },
  {
   "cell_type": "code",
   "execution_count": 280,
   "id": "d548e412",
   "metadata": {},
   "outputs": [],
   "source": [
    "from sklearn.feature_selection import SelectFromModel\n",
    "\n",
    "sfm = SelectFromModel(forest, threshold=0.1, prefit=True)\n",
    "X_selected = sfm.transform(X_train_std)"
   ]
  },
  {
   "cell_type": "code",
   "execution_count": 281,
   "id": "2525e563",
   "metadata": {
    "scrolled": true
   },
   "outputs": [
    {
     "name": "stdout",
     "output_type": "stream",
     "text": [
      " 1) pH                             0.395985\n",
      " 2) Temprature                     0.227842\n"
     ]
    }
   ],
   "source": [
    "for f in range(X_selected.shape[1]):\n",
    "    print(\"%2d) %-*s %f\" % (f + 1, 30, \n",
    "                            feat_labels[indices[f]], \n",
    "                            importances[indices[f]]))"
   ]
  },
  {
   "cell_type": "markdown",
   "id": "cb5986b5",
   "metadata": {},
   "source": [
    "## 2. Haciendo uso de PCA"
   ]
  },
  {
   "cell_type": "markdown",
   "id": "16671839",
   "metadata": {},
   "source": [
    "En primera instancia, contruimos la matriz de covarianza"
   ]
  },
  {
   "cell_type": "code",
   "execution_count": 282,
   "id": "0d1a116e",
   "metadata": {},
   "outputs": [
    {
     "data": {
      "text/plain": [
       "array([0.8319047 , 0.14647499, 0.01421392, 0.00346374, 0.0020251 ,\n",
       "       0.00101304, 0.00090452])"
      ]
     },
     "execution_count": 282,
     "metadata": {},
     "output_type": "execute_result"
    }
   ],
   "source": [
    "from sklearn.decomposition import PCA\n",
    "\n",
    "pca = PCA()\n",
    "X_train_pca = pca.fit_transform(X_train)\n",
    "pca.explained_variance_ratio_"
   ]
  },
  {
   "cell_type": "code",
   "execution_count": 283,
   "id": "90490fa5",
   "metadata": {
    "scrolled": true
   },
   "outputs": [
    {
     "data": {
      "image/png": "[encoded data removed]",
      "text/plain": [
       "<Figure size 432x288 with 1 Axes>"
      ]
     },
     "metadata": {
      "needs_background": "light"
     },
     "output_type": "display_data"
    }
   ],
   "source": [
    "plt.bar(range(1, 8), pca.explained_variance_ratio_, alpha=0.5, align='center')\n",
    "plt.step(range(1, 8), np.cumsum(pca.explained_variance_ratio_), where='mid')\n",
    "plt.ylabel('Relación Varianza')\n",
    "plt.xlabel('Componentes principales')\n",
    "\n",
    "plt.show()"
   ]
  },
  {
   "cell_type": "markdown",
   "id": "af6f4ab8",
   "metadata": {},
   "source": [
    "El gráfico indica que el primer componente principal por sí solo representa aproximadamente el 80% de la varianza. Además, podemos ver que los dos primeros componentes principales combinados explican casi el 100% de la varianza en el conjunto de datos."
   ]
  },
  {
   "cell_type": "code",
   "execution_count": 290,
   "id": "15053d8f",
   "metadata": {},
   "outputs": [],
   "source": [
    "pca = PCA(n_components=2)\n",
    "X_train_pca = pca.fit_transform(X_train_std)\n",
    "X_test_pca = pca.transform(X_test_std)"
   ]
  },
  {
   "cell_type": "code",
   "execution_count": 291,
   "id": "8f084669",
   "metadata": {},
   "outputs": [
    {
     "data": {
      "image/png": "[encoded data removed]",
      "text/plain": [
       "<Figure size 432x288 with 1 Axes>"
      ]
     },
     "metadata": {
      "needs_background": "light"
     },
     "output_type": "display_data"
    }
   ],
   "source": [
    "plt.scatter(X_train_pca[:, 0], X_train_pca[:, 1])\n",
    "plt.xlabel('PC 1')\n",
    "plt.ylabel('PC 2')\n",
    "plt.show()"
   ]
  },
  {
   "cell_type": "code",
   "execution_count": 292,
   "id": "1093fd66",
   "metadata": {},
   "outputs": [],
   "source": [
    "from sklearn.linear_model import LogisticRegression\n",
    "\n",
    "pca = PCA(n_components=2)\n",
    "X_train_pca = pca.fit_transform(X_train_std)\n",
    "X_test_pca = pca.transform(X_test_std)\n",
    "\n",
    "lr = LogisticRegression()\n",
    "lr = lr.fit(X_train_pca, y_train)"
   ]
  },
  {
   "cell_type": "code",
   "execution_count": 293,
   "id": "58e788e1",
   "metadata": {},
   "outputs": [],
   "source": [
    "from matplotlib.colors import ListedColormap\n",
    "\n",
    "def plot_decision_regions(X, y, classifier, resolution=0.02):\n",
    "\n",
    "    # setup marker generator and color map\n",
    "    markers = ('s', 'x', 'o', '^', 'v')\n",
    "    colors = ('red', 'blue', 'lightgreen', 'gray', 'cyan')\n",
    "    cmap = ListedColormap(colors[:len(np.unique(y))])\n",
    "\n",
    "    # plot the decision surface\n",
    "    x1_min, x1_max = X[:, 0].min() - 1, X[:, 0].max() + 1\n",
    "    x2_min, x2_max = X[:, 1].min() - 1, X[:, 1].max() + 1\n",
    "    xx1, xx2 = np.meshgrid(np.arange(x1_min, x1_max, resolution),\n",
    "                           np.arange(x2_min, x2_max, resolution))\n",
    "    Z = classifier.predict(np.array([xx1.ravel(), xx2.ravel()]).T)\n",
    "    Z = Z.reshape(xx1.shape)\n",
    "    plt.contourf(xx1, xx2, Z, alpha=0.4, cmap=cmap)\n",
    "    plt.xlim(xx1.min(), xx1.max())\n",
    "    plt.ylim(xx2.min(), xx2.max())\n",
    "\n",
    "    # plot class samples\n",
    "    for idx, cl in enumerate(np.unique(y)):\n",
    "        plt.scatter(x=X[y == cl, 0], \n",
    "                    y=X[y == cl, 1],\n",
    "                    alpha=0.6, \n",
    "                    c=cmap(idx),\n",
    "                    edgecolor='black',\n",
    "                    marker=markers[idx], \n",
    "                    label=cl)"
   ]
  },
  {
   "cell_type": "markdown",
   "id": "6d3b61f9",
   "metadata": {},
   "source": [
    "Ahora vamos a ver la regiones de decisión para los datos de entrenamiento reducidos a dos ejes de los componentes principales"
   ]
  },
  {
   "cell_type": "code",
   "execution_count": 294,
   "id": "8e79c79a",
   "metadata": {
    "scrolled": true
   },
   "outputs": [
    {
     "name": "stderr",
     "output_type": "stream",
     "text": [
      "*c* argument looks like a single numeric RGB or RGBA sequence, which should be avoided as value-mapping will have precedence in case its length matches with *x* & *y*.  Please use the *color* keyword-argument or provide a 2-D array with a single row if you intend to specify the same RGB or RGBA value for all points.\n",
      "*c* argument looks like a single numeric RGB or RGBA sequence, which should be avoided as value-mapping will have precedence in case its length matches with *x* & *y*.  Please use the *color* keyword-argument or provide a 2-D array with a single row if you intend to specify the same RGB or RGBA value for all points.\n",
      "*c* argument looks like a single numeric RGB or RGBA sequence, which should be avoided as value-mapping will have precedence in case its length matches with *x* & *y*.  Please use the *color* keyword-argument or provide a 2-D array with a single row if you intend to specify the same RGB or RGBA value for all points.\n"
     ]
    },
    {
     "data": {
      "image/png": "[encoded data removed]",
      "text/plain": [
       "<Figure size 432x288 with 1 Axes>"
      ]
     },
     "metadata": {
      "needs_background": "light"
     },
     "output_type": "display_data"
    }
   ],
   "source": [
    "plot_decision_regions(X_train_pca, y_train, classifier=lr)\n",
    "plt.xlabel('PC 1')\n",
    "plt.ylabel('PC 2')\n",
    "plt.legend(loc='lower left')\n",
    "plt.tight_layout()\n",
    "plt.show()"
   ]
  },
  {
   "cell_type": "markdown",
   "id": "79b316f7",
   "metadata": {},
   "source": [
    "Seguidamente vamos a mostrar gráficamente la regiones de decisión para el conjunto de prueba que se designó a modo de valuación"
   ]
  },
  {
   "cell_type": "code",
   "execution_count": 295,
   "id": "ecbeb667",
   "metadata": {
    "scrolled": true
   },
   "outputs": [
    {
     "name": "stderr",
     "output_type": "stream",
     "text": [
      "*c* argument looks like a single numeric RGB or RGBA sequence, which should be avoided as value-mapping will have precedence in case its length matches with *x* & *y*.  Please use the *color* keyword-argument or provide a 2-D array with a single row if you intend to specify the same RGB or RGBA value for all points.\n",
      "*c* argument looks like a single numeric RGB or RGBA sequence, which should be avoided as value-mapping will have precedence in case its length matches with *x* & *y*.  Please use the *color* keyword-argument or provide a 2-D array with a single row if you intend to specify the same RGB or RGBA value for all points.\n",
      "*c* argument looks like a single numeric RGB or RGBA sequence, which should be avoided as value-mapping will have precedence in case its length matches with *x* & *y*.  Please use the *color* keyword-argument or provide a 2-D array with a single row if you intend to specify the same RGB or RGBA value for all points.\n"
     ]
    },
    {
     "data": {
      "image/png": "[encoded data removed]",
      "text/plain": [
       "<Figure size 432x288 with 1 Axes>"
      ]
     },
     "metadata": {
      "needs_background": "light"
     },
     "output_type": "display_data"
    }
   ],
   "source": [
    "plot_decision_regions(X_test_pca, y_test, classifier=lr)\n",
    "plt.xlabel('PC 1')\n",
    "plt.ylabel('PC 2')\n",
    "plt.legend(loc='lower left')\n",
    "plt.tight_layout()\n",
    "plt.show()"
   ]
  },
  {
   "cell_type": "markdown",
   "id": "fbb5db8f",
   "metadata": {},
   "source": [
    "Se puede apreciar que la regresión logística no funciona muy bien y que clasifica erróneamente varias muestras del conjunto de datos de prueba"
   ]
  },
  {
   "cell_type": "markdown",
   "id": "194cc46a",
   "metadata": {},
   "source": [
    "# Modelos de clasificación"
   ]
  },
  {
   "cell_type": "markdown",
   "id": "3e354917",
   "metadata": {},
   "source": [
    "## 1. Baggin"
   ]
  },
  {
   "cell_type": "code",
   "execution_count": 318,
   "id": "c58695c0",
   "metadata": {},
   "outputs": [],
   "source": [
    "from sklearn.ensemble import BaggingClassifier\n",
    "\n",
    "bag = BaggingClassifier(base_estimator=tree,\n",
    "                        n_estimators=500, \n",
    "                        max_samples=1.0, \n",
    "                        max_features=1.0, \n",
    "                        bootstrap=True, \n",
    "                        bootstrap_features=False, \n",
    "                        n_jobs=1, \n",
    "                        random_state=1)"
   ]
  },
  {
   "cell_type": "code",
   "execution_count": 319,
   "id": "0dbd6560",
   "metadata": {
    "scrolled": true
   },
   "outputs": [
    {
     "name": "stdout",
     "output_type": "stream",
     "text": [
      "Bagging train/test accuracies 1.000/0.997\n"
     ]
    }
   ],
   "source": [
    "from sklearn.metrics import accuracy_score\n",
    "\n",
    "bag = bag.fit(X_train_std, y_train)\n",
    "y_train_pred = bag.predict(X_train_std)\n",
    "y_test_pred = bag.predict(X_test_std)\n",
    "\n",
    "bag_train = accuracy_score(y_train, y_train_pred) \n",
    "bag_test = accuracy_score(y_test, y_test_pred) \n",
    "print('Bagging train/test accuracies %.3f/%.3f'\n",
    "      % (bag_train, bag_test))"
   ]
  },
  {
   "cell_type": "code",
   "execution_count": 320,
   "id": "2e6c36cc",
   "metadata": {
    "scrolled": true
   },
   "outputs": [
    {
     "name": "stderr",
     "output_type": "stream",
     "text": [
      "[Parallel(n_jobs=1)]: Using backend SequentialBackend with 1 concurrent workers.\n",
      "[Parallel(n_jobs=1)]: Done   5 out of   5 | elapsed:    0.1s finished\n"
     ]
    },
    {
     "data": {
      "text/plain": [
       "0.9046633282661182"
      ]
     },
     "execution_count": 320,
     "metadata": {},
     "output_type": "execute_result"
    }
   ],
   "source": [
    "bag_clf = BaggingClassifier(max_features=2)\n",
    "cross_val_score(bag_clf, X,y, cv=5, verbose=1).mean()"
   ]
  },
  {
   "cell_type": "markdown",
   "id": "1ca4997e",
   "metadata": {},
   "source": [
    "Usando la validación cruzada, el resultado para Baggin desmejora pero sigue siendo aceptable"
   ]
  },
  {
   "cell_type": "markdown",
   "id": "4bbce959",
   "metadata": {},
   "source": [
    "## 2. Árbol de clasificación"
   ]
  },
  {
   "cell_type": "code",
   "execution_count": 325,
   "id": "65a68aa9",
   "metadata": {},
   "outputs": [
    {
     "name": "stderr",
     "output_type": "stream",
     "text": [
      "*c* argument looks like a single numeric RGB or RGBA sequence, which should be avoided as value-mapping will have precedence in case its length matches with *x* & *y*.  Please use the *color* keyword-argument or provide a 2-D array with a single row if you intend to specify the same RGB or RGBA value for all points.\n",
      "*c* argument looks like a single numeric RGB or RGBA sequence, which should be avoided as value-mapping will have precedence in case its length matches with *x* & *y*.  Please use the *color* keyword-argument or provide a 2-D array with a single row if you intend to specify the same RGB or RGBA value for all points.\n",
      "*c* argument looks like a single numeric RGB or RGBA sequence, which should be avoided as value-mapping will have precedence in case its length matches with *x* & *y*.  Please use the *color* keyword-argument or provide a 2-D array with a single row if you intend to specify the same RGB or RGBA value for all points.\n"
     ]
    },
    {
     "data": {
      "image/png": "[encoded data removed]",
      "text/plain": [
       "<Figure size 432x288 with 1 Axes>"
      ]
     },
     "metadata": {
      "needs_background": "light"
     },
     "output_type": "display_data"
    }
   ],
   "source": [
    "tree = DecisionTreeClassifier(criterion='gini', \n",
    "                              max_depth=4, \n",
    "                              random_state=1)\n",
    "tree.fit(X_train_pca, y_train)\n",
    "\n",
    "X_combined = np.vstack((X_train_pca, X_test_pca))\n",
    "y_combined = np.hstack((y_train, y_test))\n",
    "plot_decision_regions(X_combined, y_combined, \n",
    "                      classifier=tree)\n",
    "\n",
    "plt.xlabel('x')\n",
    "plt.ylabel('y')\n",
    "plt.legend(loc='upper left')\n",
    "plt.tight_layout()\n",
    "plt.show()"
   ]
  },
  {
   "cell_type": "code",
   "execution_count": 322,
   "id": "a50c9454",
   "metadata": {},
   "outputs": [
    {
     "name": "stdout",
     "output_type": "stream",
     "text": [
      "Decision tree train/test accuracies 0.848/0.849\n"
     ]
    }
   ],
   "source": [
    "\n",
    "y_train_pred = tree.predict(X_train_pca)\n",
    "y_test_pred = tree.predict(X_test_pca)\n",
    "\n",
    "tree_train = accuracy_score(y_train, y_train_pred)\n",
    "tree_test = accuracy_score(y_test, y_test_pred)\n",
    "print('Decision tree train/test accuracies %.3f/%.3f'\n",
    "      % (tree_train, tree_test))"
   ]
  },
  {
   "cell_type": "code",
   "execution_count": 326,
   "id": "9c7e1d6e",
   "metadata": {
    "scrolled": true
   },
   "outputs": [
    {
     "name": "stderr",
     "output_type": "stream",
     "text": [
      "[Parallel(n_jobs=1)]: Using backend SequentialBackend with 1 concurrent workers.\n",
      "[Parallel(n_jobs=1)]: Done   5 out of   5 | elapsed:    0.0s finished\n"
     ]
    },
    {
     "data": {
      "text/plain": [
       "0.8479567200214613"
      ]
     },
     "execution_count": 326,
     "metadata": {},
     "output_type": "execute_result"
    }
   ],
   "source": [
    "cross_val_score(tree, X_combined,y_combined, cv=5, verbose=1).mean()"
   ]
  },
  {
   "cell_type": "markdown",
   "id": "157e3a9d",
   "metadata": {},
   "source": [
    "## 3. KNN"
   ]
  },
  {
   "cell_type": "code",
   "execution_count": 323,
   "id": "911e2172",
   "metadata": {
    "scrolled": true
   },
   "outputs": [
    {
     "name": "stderr",
     "output_type": "stream",
     "text": [
      "*c* argument looks like a single numeric RGB or RGBA sequence, which should be avoided as value-mapping will have precedence in case its length matches with *x* & *y*.  Please use the *color* keyword-argument or provide a 2-D array with a single row if you intend to specify the same RGB or RGBA value for all points.\n",
      "*c* argument looks like a single numeric RGB or RGBA sequence, which should be avoided as value-mapping will have precedence in case its length matches with *x* & *y*.  Please use the *color* keyword-argument or provide a 2-D array with a single row if you intend to specify the same RGB or RGBA value for all points.\n",
      "*c* argument looks like a single numeric RGB or RGBA sequence, which should be avoided as value-mapping will have precedence in case its length matches with *x* & *y*.  Please use the *color* keyword-argument or provide a 2-D array with a single row if you intend to specify the same RGB or RGBA value for all points.\n"
     ]
    },
    {
     "data": {
      "image/png": "[encoded data removed]",
      "text/plain": [
       "<Figure size 432x288 with 1 Axes>"
      ]
     },
     "metadata": {
      "needs_background": "light"
     },
     "output_type": "display_data"
    }
   ],
   "source": [
    "from sklearn.neighbors import KNeighborsClassifier\n",
    "\n",
    "knn = KNeighborsClassifier(n_neighbors=5, \n",
    "                           p=2, \n",
    "                           metric='minkowski')\n",
    "knn.fit(X_train_pca, y_train)\n",
    "\n",
    "plot_decision_regions(X_train_pca, y_train, \n",
    "                      classifier=knn)\n",
    "\n",
    "plt.xlabel('X')\n",
    "plt.ylabel('Y')\n",
    "plt.legend(loc='upper left')\n",
    "plt.tight_layout()\n",
    "#plt.savefig('images/03_24.png', dpi=300)\n",
    "plt.show()"
   ]
  },
  {
   "cell_type": "code",
   "execution_count": 351,
   "id": "503fdafd",
   "metadata": {
    "scrolled": true
   },
   "outputs": [
    {
     "name": "stderr",
     "output_type": "stream",
     "text": [
      "[Parallel(n_jobs=1)]: Using backend SequentialBackend with 1 concurrent workers.\n",
      "[Parallel(n_jobs=1)]: Done   5 out of   5 | elapsed:    0.1s finished\n"
     ]
    },
    {
     "data": {
      "text/plain": [
       "0.9914915496736117"
      ]
     },
     "execution_count": 351,
     "metadata": {},
     "output_type": "execute_result"
    }
   ],
   "source": [
    "cross_val_score(knn, X,y, cv=5, verbose=1).mean()"
   ]
  },
  {
   "cell_type": "markdown",
   "id": "cb2b0c3c",
   "metadata": {},
   "source": [
    "## 4. Perceptron"
   ]
  },
  {
   "cell_type": "code",
   "execution_count": 328,
   "id": "cc7bcffc",
   "metadata": {
    "scrolled": true
   },
   "outputs": [
    {
     "name": "stdout",
     "output_type": "stream",
     "text": [
      "Labels counts in y_train: [300 262 179]\n",
      "Labels counts in y_test: [129 112  77]\n"
     ]
    }
   ],
   "source": [
    "\n",
    "print('Labels counts in y_train:', np.bincount(y_train))\n",
    "print('Labels counts in y_test:', np.bincount(y_test))"
   ]
  },
  {
   "cell_type": "code",
   "execution_count": 330,
   "id": "a56f118d",
   "metadata": {},
   "outputs": [
    {
     "name": "stdout",
     "output_type": "stream",
     "text": [
      "Misclassified samples: 56\n",
      "Accuracy: 0.82\n"
     ]
    }
   ],
   "source": [
    "from sklearn.linear_model import Perceptron\n",
    "\n",
    "ppn = Perceptron(max_iter=40, eta0=0.1, random_state=1)\n",
    "ppn.fit(X_train_std, y_train)\n",
    "\n",
    "y_pred = ppn.predict(X_test_std)\n",
    "print('Misclassified samples: %d' % (y_test != y_pred).sum())\n",
    "\n",
    "print('Accuracy: %.2f' % accuracy_score(y_test, y_pred))"
   ]
  },
  {
   "cell_type": "code",
   "execution_count": 350,
   "id": "b1969e2b",
   "metadata": {},
   "outputs": [
    {
     "name": "stderr",
     "output_type": "stream",
     "text": [
      "[Parallel(n_jobs=1)]: Using backend SequentialBackend with 1 concurrent workers.\n",
      "[Parallel(n_jobs=1)]: Done   5 out of   5 | elapsed:    0.0s finished\n"
     ]
    },
    {
     "data": {
      "text/plain": [
       "0.5004918179379416"
      ]
     },
     "execution_count": 350,
     "metadata": {},
     "output_type": "execute_result"
    }
   ],
   "source": [
    "cross_val_score(ppn, X,y, cv=5, verbose=1).mean()"
   ]
  },
  {
   "cell_type": "code",
   "execution_count": 333,
   "id": "564a09dd",
   "metadata": {},
   "outputs": [],
   "source": [
    "# Cargando modulos\n",
    "# %load ../standard_import.txt\n",
    "import pandas as pd\n",
    "import numpy as np\n",
    "import matplotlib.pyplot as plt\n",
    "import seaborn as sns\n",
    "\n",
    "# import pydot\n",
    "from IPython.display import Image\n",
    "\n",
    "from sklearn.model_selection import train_test_split, cross_val_score, KFold, GridSearchCV, RandomizedSearchCV\n",
    "# from sklearn.externals.six import StringIO \n",
    "import graphviz \n",
    "\n",
    "from sklearn.tree import plot_tree\n",
    "from sklearn.tree import DecisionTreeRegressor, DecisionTreeClassifier, export_graphviz\n",
    "from sklearn.ensemble import BaggingClassifier, RandomForestClassifier, BaggingRegressor, RandomForestRegressor, GradientBoostingRegressor, GradientBoostingClassifier\n",
    "from sklearn.metrics import mean_squared_error,confusion_matrix, classification_report, r2_score\n",
    "\n",
    "from xgboost import XGBClassifier, XGBRegressor\n",
    "from scipy.stats import randint, uniform\n",
    "\n",
    "import warnings\n",
    "warnings.filterwarnings('ignore')\n",
    "\n",
    "# Para ser reproducible\n",
    "np.random.seed(42)\n",
    "\n",
    "%matplotlib inline"
   ]
  },
  {
   "cell_type": "markdown",
   "id": "046cf330",
   "metadata": {},
   "source": [
    "## 5. Random Forest"
   ]
  },
  {
   "cell_type": "code",
   "execution_count": 352,
   "id": "1a17f8c8",
   "metadata": {},
   "outputs": [
    {
     "data": {
      "text/plain": [
       "1.0"
      ]
     },
     "execution_count": 352,
     "metadata": {},
     "output_type": "execute_result"
    }
   ],
   "source": [
    "RF_clf = RandomForestClassifier()\n",
    "RF_clf.fit(X_train_std,y_train)\n",
    "RF_clf.score(X_train_std,y_train)"
   ]
  },
  {
   "cell_type": "code",
   "execution_count": 353,
   "id": "c4939ba6",
   "metadata": {
    "scrolled": true
   },
   "outputs": [
    {
     "name": "stderr",
     "output_type": "stream",
     "text": [
      "[Parallel(n_jobs=1)]: Using backend SequentialBackend with 1 concurrent workers.\n",
      "[Parallel(n_jobs=1)]: Done   5 out of   5 | elapsed:    0.6s finished\n"
     ]
    },
    {
     "data": {
      "text/plain": [
       "0.9962174729500134"
      ]
     },
     "execution_count": 353,
     "metadata": {},
     "output_type": "execute_result"
    }
   ],
   "source": [
    "cross_val_score(RandomForestClassifier(random_state=42),X,y,cv=5,verbose=1).mean()"
   ]
  },
  {
   "cell_type": "markdown",
   "id": "2765dcb4",
   "metadata": {},
   "source": [
    "El resultado de la validación cruzada es similar al del modelo."
   ]
  },
  {
   "cell_type": "markdown",
   "id": "de9f58c6",
   "metadata": {},
   "source": [
    "## 6. Boosting\n",
    "### Gradient boosting classifier"
   ]
  },
  {
   "cell_type": "code",
   "execution_count": 354,
   "id": "c3f45733",
   "metadata": {},
   "outputs": [
    {
     "data": {
      "text/plain": [
       "1.0"
      ]
     },
     "execution_count": 354,
     "metadata": {},
     "output_type": "execute_result"
    }
   ],
   "source": [
    "GBC_clf = GradientBoostingClassifier(learning_rate=0.1)\n",
    "GBC_clf.fit(X_train_std,y_train)\n",
    "GBC_clf.score(X_train_std,y_train)"
   ]
  },
  {
   "cell_type": "code",
   "execution_count": 355,
   "id": "2cf52c36",
   "metadata": {},
   "outputs": [
    {
     "name": "stderr",
     "output_type": "stream",
     "text": [
      "[Parallel(n_jobs=1)]: Using backend SequentialBackend with 1 concurrent workers.\n",
      "[Parallel(n_jobs=1)]: Done   5 out of   5 | elapsed:    1.2s finished\n"
     ]
    },
    {
     "data": {
      "text/plain": [
       "0.9943306804971831"
      ]
     },
     "execution_count": 355,
     "metadata": {},
     "output_type": "execute_result"
    }
   ],
   "source": [
    "cross_val_score(GradientBoostingClassifier(learning_rate=0.1)\n",
    ", X,y, cv=5, verbose=1).mean()"
   ]
  },
  {
   "cell_type": "markdown",
   "id": "86e56f9d",
   "metadata": {},
   "source": [
    "Los resultados de la validación cruzada para Random Forest y Gradient boosting classifier son idénticos y excelentes."
   ]
  },
  {
   "cell_type": "markdown",
   "id": "04943056",
   "metadata": {},
   "source": [
    "## 7. XGBoost"
   ]
  },
  {
   "cell_type": "code",
   "execution_count": 357,
   "id": "ed5012b4",
   "metadata": {},
   "outputs": [
    {
     "name": "stderr",
     "output_type": "stream",
     "text": [
      "[Parallel(n_jobs=1)]: Using backend SequentialBackend with 1 concurrent workers.\n",
      "[Parallel(n_jobs=1)]: Done   5 out of   5 | elapsed:    0.4s finished\n"
     ]
    },
    {
     "data": {
      "text/plain": [
       "0.9952740767235984"
      ]
     },
     "execution_count": 357,
     "metadata": {},
     "output_type": "execute_result"
    }
   ],
   "source": [
    "from xgboost import XGBClassifier\n",
    "\n",
    "xgb_cl = XGBClassifier(learning_rate=0.1, max_depth=2, eval_metric=\"mlogloss\")\n",
    "\n",
    "# Validacion cruzada de 5 folds, mide el Accuracy y se ha colocado\n",
    "# verbose=1 para mostrar informacion sobre el proceso.\n",
    "cross_val_score(xgb_cl,X,y,cv=5,verbose=1).mean()"
   ]
  },
  {
   "cell_type": "markdown",
   "id": "46531f2b",
   "metadata": {},
   "source": [
    "El accuracy de XGBoost es excelente, aunque sigue siendo mejor para el modelo Random Forest."
   ]
  },
  {
   "cell_type": "code",
   "execution_count": 358,
   "id": "a3fd1a6c",
   "metadata": {},
   "outputs": [
    {
     "data": {
      "text/plain": [
       "0.996222851746931"
      ]
     },
     "execution_count": 358,
     "metadata": {},
     "output_type": "execute_result"
    }
   ],
   "source": [
    "xgb_cl.fit(X,y)\n",
    "xgb_cl.score(X,y)"
   ]
  },
  {
   "cell_type": "markdown",
   "id": "ddc6d9d7",
   "metadata": {},
   "source": [
    "## Buscando los mejores hiperparámetros"
   ]
  },
  {
   "cell_type": "code",
   "execution_count": 359,
   "id": "5be114ef",
   "metadata": {},
   "outputs": [
    {
     "name": "stdout",
     "output_type": "stream",
     "text": [
      "Fitting 5 folds for each of 27 candidates, totalling 135 fits\n"
     ]
    },
    {
     "data": {
      "text/plain": [
       "GridSearchCV(cv=5,\n",
       "             estimator=XGBClassifier(base_score=None, booster=None,\n",
       "                                     colsample_bylevel=None,\n",
       "                                     colsample_bynode=None,\n",
       "                                     colsample_bytree=None,\n",
       "                                     eval_metric='mlogloss', gamma=None,\n",
       "                                     gpu_id=None, importance_type='gain',\n",
       "                                     interaction_constraints=None,\n",
       "                                     learning_rate=None, max_delta_step=None,\n",
       "                                     max_depth=None, min_child_weight=None,\n",
       "                                     missing=nan, monotone_constraints=None,\n",
       "                                     n_estimators=100, n_jobs=None, nthread=4,\n",
       "                                     num_parallel_tree=None, random_state=None,\n",
       "                                     reg_alpha=None, reg_lambda=None,\n",
       "                                     scale_pos_weight=None, subsample=None,\n",
       "                                     tree_method=None, validate_parameters=None,\n",
       "                                     verbosity=None),\n",
       "             n_jobs=5,\n",
       "             param_grid={'learning_rate': [0.01, 0.05, 0.1],\n",
       "                         'max_depth': [3, 6, 10],\n",
       "                         'n_estimators': [100, 500, 1000]},\n",
       "             verbose=1)"
      ]
     },
     "execution_count": 359,
     "metadata": {},
     "output_type": "execute_result"
    }
   ],
   "source": [
    "xgb_cl = XGBClassifier(eval_metric=\"mlogloss\",nthread=4)\n",
    "clf = GridSearchCV( xgb_cl,\n",
    "                  {'max_depth':[3,6,10], \n",
    "                   'n_estimators': [100,500,1000],\n",
    "                  'learning_rate': [0.01, 0.05, 0.1]},\n",
    "                   cv = 5,verbose=1,n_jobs=5)\n",
    "clf.fit(X,y)"
   ]
  },
  {
   "cell_type": "code",
   "execution_count": 360,
   "id": "28bfaa22",
   "metadata": {},
   "outputs": [
    {
     "name": "stdout",
     "output_type": "stream",
     "text": [
      "0.9962174729500134\n",
      "{'learning_rate': 0.1, 'max_depth': 6, 'n_estimators': 1000}\n"
     ]
    }
   ],
   "source": [
    "print(clf.best_score_) # r2_score de la validacion cruzada Los mejores hiperparametros\n",
    "print(clf.best_params_) # Los mejores hiperparametros"
   ]
  },
  {
   "cell_type": "code",
   "execution_count": 361,
   "id": "b14e9425",
   "metadata": {},
   "outputs": [
    {
     "name": "stdout",
     "output_type": "stream",
     "text": [
      "Fitting 5 folds for each of 400 candidates, totalling 2000 fits\n"
     ]
    },
    {
     "data": {
      "text/plain": [
       "RandomizedSearchCV(cv=5,\n",
       "                   estimator=XGBClassifier(base_score=None, booster=None,\n",
       "                                           colsample_bylevel=None,\n",
       "                                           colsample_bynode=None,\n",
       "                                           colsample_bytree=None,\n",
       "                                           eval_metric='mlogloss', gamma=None,\n",
       "                                           gpu_id=None, importance_type='gain',\n",
       "                                           interaction_constraints=None,\n",
       "                                           learning_rate=None,\n",
       "                                           max_delta_step=None, max_depth=None,\n",
       "                                           min_child_weight=None, missing=nan,\n",
       "                                           monotone_constraints...\n",
       "                                           validate_parameters=None,\n",
       "                                           verbosity=None),\n",
       "                   n_iter=400, n_jobs=5,\n",
       "                   param_distributions={'learning_rate': <scipy.stats._distn_infrastructure.rv_frozen object at 0x7fbe22420490>,\n",
       "                                        'max_depth': <scipy.stats._distn_infrastructure.rv_frozen object at 0x7fbe225db250>,\n",
       "                                        'n_estimators': <scipy.stats._distn_infrastructure.rv_frozen object at 0x7fbe2598fbe0>},\n",
       "                   random_state=42, verbose=1)"
      ]
     },
     "execution_count": 361,
     "metadata": {},
     "output_type": "execute_result"
    }
   ],
   "source": [
    "from sklearn.model_selection import RandomizedSearchCV\n",
    "from scipy.stats import randint, uniform\n",
    "\n",
    "xgb_cl = XGBClassifier(eval_metric=\"mlogloss\",nthread=4)\n",
    "param_grid = {\"max_depth\": randint(2,5),\n",
    "              \"learning_rate\": uniform(0.001,0.4), \n",
    "              \"n_estimators\": randint(25,200)}\n",
    "\n",
    "# Se probaran 200 combinaciones de los parametros definidos en param_dist\n",
    "# en cada validacion cruzada, es decir, 1000 iteraciones\n",
    "clf = RandomizedSearchCV(xgb_cl, param_grid, n_iter=400, cv=5, n_jobs=5,verbose=1, random_state=42)\n",
    "\n",
    "clf.fit(X,y)"
   ]
  },
  {
   "cell_type": "code",
   "execution_count": 362,
   "id": "d81939a0",
   "metadata": {},
   "outputs": [
    {
     "name": "stdout",
     "output_type": "stream",
     "text": [
      "0.9962174729500134\n",
      "{'learning_rate': 0.3516645943703171, 'max_depth': 4, 'n_estimators': 133}\n"
     ]
    }
   ],
   "source": [
    "print(clf.best_score_) # accuracy medio de la validacion cruzada\n",
    "print(clf.best_params_) # Los mejores hiperparametros."
   ]
  },
  {
   "cell_type": "markdown",
   "id": "14f582fe",
   "metadata": {},
   "source": [
    "Se puede concluir que el mejor accuracy se obtiene con el modelo XGBoost con un learning rate de 0.35, nivel profundidad de 4 y 133 estimadores; aunque muy similar al de los modelos Random Forest y Gradient boosting classifier."
   ]
  },
  {
   "cell_type": "code",
   "execution_count": null,
   "id": "e0639288",
   "metadata": {},
   "outputs": [],
   "source": []
  },
  {
   "cell_type": "markdown",
   "id": "37daba3b",
   "metadata": {},
   "source": [
    "# Técnicas de clustering"
   ]
  },
  {
   "cell_type": "markdown",
   "id": "5bccff9b",
   "metadata": {},
   "source": [
    "## K-means"
   ]
  },
  {
   "cell_type": "markdown",
   "id": "ab6bb50b",
   "metadata": {},
   "source": [
    "Inicialmente, vamos a separar el conjunto de datos en 3 grupos"
   ]
  },
  {
   "cell_type": "code",
   "execution_count": 363,
   "id": "e549125f",
   "metadata": {},
   "outputs": [],
   "source": [
    "from sklearn.cluster import KMeans\n",
    "\n",
    "km = KMeans(n_clusters=3, \n",
    "            init='random', \n",
    "            n_init=10, \n",
    "            max_iter=300,\n",
    "            tol=1e-04,\n",
    "            random_state=0)\n",
    "\n",
    "y_km = km.fit_predict(X)"
   ]
  },
  {
   "cell_type": "markdown",
   "id": "f9c1a92e",
   "metadata": {},
   "source": [
    "Posteriormente, vamos a graficar los grupos y centroides para visualizar el modo en que fueron agrupados."
   ]
  },
  {
   "cell_type": "code",
   "execution_count": 364,
   "id": "145eeb50",
   "metadata": {
    "scrolled": true
   },
   "outputs": [
    {
     "data": {
      "image/png": "[encoded data removed]",
      "text/plain": [
       "<Figure size 432x288 with 1 Axes>"
      ]
     },
     "metadata": {
      "needs_background": "light"
     },
     "output_type": "display_data"
    }
   ],
   "source": [
    "plt.scatter(X[y_km == 0, 0],\n",
    "            X[y_km == 0, 1],\n",
    "            s=50, c='lightgreen',\n",
    "            marker='s', edgecolor='black',\n",
    "            label='cluster 1')\n",
    "plt.scatter(X[y_km == 1, 0],\n",
    "            X[y_km == 1, 1],\n",
    "            s=50, c='orange',\n",
    "            marker='o', edgecolor='black',\n",
    "            label='cluster 2')\n",
    "plt.scatter(X[y_km == 2, 0],\n",
    "            X[y_km == 2, 1],\n",
    "            s=50, c='lightblue',\n",
    "            marker='v', edgecolor='black',\n",
    "            label='cluster 3')\n",
    "plt.scatter(km.cluster_centers_[:, 0],\n",
    "            km.cluster_centers_[:, 1],\n",
    "            s=250, marker='*',\n",
    "            c='red', edgecolor='black',\n",
    "            label='centroids')\n",
    "plt.legend(scatterpoints=1)\n",
    "plt.grid()\n",
    "plt.tight_layout()\n",
    "plt.show()"
   ]
  },
  {
   "cell_type": "markdown",
   "id": "772213b1",
   "metadata": {},
   "source": [
    "Como se puede ver, no se aprecia un agrupamiento 'ideal', pero esto lo podemos evaluar mediante la métrica de silueta, la cual sigue a continuación:"
   ]
  },
  {
   "cell_type": "code",
   "execution_count": 367,
   "id": "f35f6043",
   "metadata": {},
   "outputs": [
    {
     "data": {
      "image/png": "[encoded data removed]",
      "text/plain": [
       "<Figure size 432x288 with 1 Axes>"
      ]
     },
     "metadata": {
      "needs_background": "light"
     },
     "output_type": "display_data"
    }
   ],
   "source": [
    "from matplotlib import cm\n",
    "from sklearn.metrics import silhouette_samples\n",
    "\n",
    "km = KMeans(n_clusters=3, \n",
    "            init='k-means++', \n",
    "            n_init=10, \n",
    "            max_iter=300,\n",
    "            tol=1e-04,\n",
    "            random_state=0)\n",
    "y_km = km.fit_predict(X)\n",
    "\n",
    "cluster_labels = np.unique(y_km)\n",
    "n_clusters = cluster_labels.shape[0]\n",
    "silhouette_vals = silhouette_samples(X, y_km, metric='euclidean')\n",
    "y_ax_lower, y_ax_upper = 0, 0\n",
    "yticks = []\n",
    "for i, c in enumerate(cluster_labels):\n",
    "    c_silhouette_vals = silhouette_vals[y_km == c]\n",
    "    c_silhouette_vals.sort()\n",
    "    y_ax_upper += len(c_silhouette_vals)\n",
    "    color = cm.jet(float(i) / n_clusters)\n",
    "    plt.barh(range(y_ax_lower, y_ax_upper), c_silhouette_vals, height=1.0, \n",
    "             edgecolor='none', color=color)\n",
    "\n",
    "    yticks.append((y_ax_lower + y_ax_upper) / 2.)\n",
    "    y_ax_lower += len(c_silhouette_vals)\n",
    "    \n",
    "silhouette_avg = np.mean(silhouette_vals)\n",
    "plt.axvline(silhouette_avg, color=\"red\", linestyle=\"--\") \n",
    "\n",
    "plt.yticks(yticks, cluster_labels + 1)\n",
    "plt.ylabel('Cluster')\n",
    "plt.xlabel('Silhouette coefficient')\n",
    "\n",
    "plt.tight_layout()\n",
    "plt.show()"
   ]
  },
  {
   "cell_type": "markdown",
   "id": "d994160b",
   "metadata": {},
   "source": [
    "Cómo podemos ver el gráfico resultante, las siluetas tienen visiblemente diferentes longitudes y anchuras, lo cual demuestra un agrupamiento relativamente malo.\n",
    "La línea punteada corresponde al coeficiente de silueta medio."
   ]
  },
  {
   "cell_type": "markdown",
   "id": "391d7654",
   "metadata": {},
   "source": [
    "Ahora evaluaremos que ocurre si queremos agrupar en dos (2) grupos:"
   ]
  },
  {
   "cell_type": "code",
   "execution_count": 368,
   "id": "64d87dcb",
   "metadata": {
    "scrolled": true
   },
   "outputs": [
    {
     "data": {
      "image/png": "[encoded data removed]",
      "text/plain": [
       "<Figure size 432x288 with 1 Axes>"
      ]
     },
     "metadata": {
      "needs_background": "light"
     },
     "output_type": "display_data"
    }
   ],
   "source": [
    "km = KMeans(n_clusters=2,\n",
    "            init='k-means++',\n",
    "            n_init=10,\n",
    "            max_iter=300,\n",
    "            tol=1e-04,\n",
    "            random_state=0)\n",
    "y_km = km.fit_predict(X)\n",
    "\n",
    "plt.scatter(X[y_km == 0, 0],\n",
    "            X[y_km == 0, 1],\n",
    "            s=50,\n",
    "            c='lightgreen',\n",
    "            edgecolor='black',\n",
    "            marker='s',\n",
    "            label='cluster 1')\n",
    "plt.scatter(X[y_km == 1, 0],\n",
    "            X[y_km == 1, 1],\n",
    "            s=50,\n",
    "            c='orange',\n",
    "            edgecolor='black',\n",
    "            marker='o',\n",
    "            label='cluster 2')\n",
    "\n",
    "plt.scatter(km.cluster_centers_[:, 0], km.cluster_centers_[:, 1],\n",
    "            s=250, marker='*', c='red', label='centroids')\n",
    "plt.legend()\n",
    "plt.grid()\n",
    "plt.tight_layout()\n",
    "plt.show()"
   ]
  },
  {
   "cell_type": "markdown",
   "id": "8cc0fbdc",
   "metadata": {},
   "source": [
    "Aquí se definen los centroides, y pareciera tener una mejor distribución, pero esto lo evaluaremos mediante la métrica de silueta:"
   ]
  },
  {
   "cell_type": "code",
   "execution_count": 369,
   "id": "841c6d54",
   "metadata": {
    "scrolled": true
   },
   "outputs": [
    {
     "data": {
      "image/png": "[encoded data removed]",
      "text/plain": [
       "<Figure size 432x288 with 1 Axes>"
      ]
     },
     "metadata": {
      "needs_background": "light"
     },
     "output_type": "display_data"
    }
   ],
   "source": [
    "cluster_labels = np.unique(y_km)\n",
    "n_clusters = cluster_labels.shape[0]\n",
    "silhouette_vals = silhouette_samples(X, y_km, metric='euclidean')\n",
    "y_ax_lower, y_ax_upper = 0, 0\n",
    "yticks = []\n",
    "for i, c in enumerate(cluster_labels):\n",
    "    c_silhouette_vals = silhouette_vals[y_km == c]\n",
    "    c_silhouette_vals.sort()\n",
    "    y_ax_upper += len(c_silhouette_vals)\n",
    "    color = cm.jet(float(i) / n_clusters)\n",
    "    plt.barh(range(y_ax_lower, y_ax_upper), c_silhouette_vals, height=1.0, \n",
    "             edgecolor='none', color=color)\n",
    "\n",
    "    yticks.append((y_ax_lower + y_ax_upper) / 2.)\n",
    "    y_ax_lower += len(c_silhouette_vals)\n",
    "    \n",
    "silhouette_avg = np.mean(silhouette_vals)\n",
    "plt.axvline(silhouette_avg, color=\"red\", linestyle=\"--\") \n",
    "\n",
    "plt.yticks(yticks, cluster_labels + 1)\n",
    "plt.ylabel('Cluster')\n",
    "plt.xlabel('Silhouette coefficient')\n",
    "\n",
    "plt.tight_layout()\n",
    "plt.show()"
   ]
  },
  {
   "cell_type": "markdown",
   "id": "2c23ba7c",
   "metadata": {},
   "source": [
    "Cómo podemos ver el gráfico resultante, las siluetas tienen visiblemente diferentes longitudes y anchuras, lo cual demuestra un agrupamiento relativamente malo o, como mínimo, insuficiente."
   ]
  },
  {
   "cell_type": "markdown",
   "id": "f25f5e53",
   "metadata": {},
   "source": [
    "Ahora bien, si quisiéramos evaluar 4 grupos, la distribución sería como sigue a continuación:"
   ]
  },
  {
   "cell_type": "code",
   "execution_count": 370,
   "id": "bc4e5944",
   "metadata": {},
   "outputs": [
    {
     "data": {
      "image/png": "[encoded data removed]",
      "text/plain": [
       "<Figure size 432x288 with 1 Axes>"
      ]
     },
     "metadata": {
      "needs_background": "light"
     },
     "output_type": "display_data"
    }
   ],
   "source": [
    "km = KMeans(n_clusters=4, \n",
    "            init='random', \n",
    "            n_init=10, \n",
    "            max_iter=300,\n",
    "            tol=1e-04,\n",
    "            random_state=0)\n",
    "\n",
    "y_km = km.fit_predict(X)\n",
    "\n",
    "plt.scatter(X[y_km == 0, 0],\n",
    "            X[y_km == 0, 1],\n",
    "            s=50, c='lightgreen',\n",
    "            marker='s', edgecolor='black',\n",
    "            label='cluster 1')\n",
    "plt.scatter(X[y_km == 1, 0],\n",
    "            X[y_km == 1, 1],\n",
    "            s=50, c='orange',\n",
    "            marker='o', edgecolor='black',\n",
    "            label='cluster 2')\n",
    "plt.scatter(X[y_km == 2, 0],\n",
    "            X[y_km == 2, 1],\n",
    "            s=50, c='lightblue',\n",
    "            marker='v', edgecolor='black',\n",
    "            label='cluster 3')\n",
    "plt.scatter(X[y_km == 3, 0],\n",
    "            X[y_km == 3, 1],\n",
    "            s=50, c='lightpink',\n",
    "            marker='v', edgecolor='black',\n",
    "            label='cluster 4')\n",
    "\n",
    "\n",
    "plt.scatter(km.cluster_centers_[:, 0], km.cluster_centers_[:, 1],\n",
    "            s=250, marker='*', c='red', label='centroids')\n",
    "plt.legend(scatterpoints=1)\n",
    "plt.grid()\n",
    "plt.tight_layout()\n",
    "plt.show()"
   ]
  },
  {
   "cell_type": "code",
   "execution_count": 371,
   "id": "52fbc0cd",
   "metadata": {},
   "outputs": [
    {
     "data": {
      "image/png": "[encoded data removed]",
      "text/plain": [
       "<Figure size 432x288 with 1 Axes>"
      ]
     },
     "metadata": {
      "needs_background": "light"
     },
     "output_type": "display_data"
    }
   ],
   "source": [
    "cluster_labels = np.unique(y_km)\n",
    "n_clusters = cluster_labels.shape[0]\n",
    "silhouette_vals = silhouette_samples(X, y_km, metric='euclidean')\n",
    "y_ax_lower, y_ax_upper = 0, 0\n",
    "yticks = []\n",
    "for i, c in enumerate(cluster_labels):\n",
    "    c_silhouette_vals = silhouette_vals[y_km == c]\n",
    "    c_silhouette_vals.sort()\n",
    "    y_ax_upper += len(c_silhouette_vals)\n",
    "    color = cm.jet(float(i) / n_clusters)\n",
    "    plt.barh(range(y_ax_lower, y_ax_upper), c_silhouette_vals, height=1.0, \n",
    "             edgecolor='none', color=color)\n",
    "\n",
    "    yticks.append((y_ax_lower + y_ax_upper) / 2.)\n",
    "    y_ax_lower += len(c_silhouette_vals)\n",
    "    \n",
    "silhouette_avg = np.mean(silhouette_vals)\n",
    "plt.axvline(silhouette_avg, color=\"red\", linestyle=\"--\") \n",
    "\n",
    "plt.yticks(yticks, cluster_labels + 1)\n",
    "plt.ylabel('Cluster')\n",
    "plt.xlabel('Silhouette coefficient')\n",
    "\n",
    "plt.tight_layout()\n",
    "plt.show()"
   ]
  },
  {
   "cell_type": "markdown",
   "id": "30c420d9",
   "metadata": {},
   "source": [
    "En este caso, uno de los grupos no alcanza el coeficiente de silueta medio (línea punteada), por lo que podemos pensar que la mejor distribución corresponde a tres (3) grupos, a pesar de que no los agrupa como debiera."
   ]
  },
  {
   "cell_type": "code",
   "execution_count": 383,
   "id": "0626b660",
   "metadata": {},
   "outputs": [
    {
     "name": "stdout",
     "output_type": "stream",
     "text": [
      "Cluster labels: [2 2 0 ... 2 2 0]\n"
     ]
    }
   ],
   "source": [
    "from sklearn.cluster import AgglomerativeClustering\n",
    "\n",
    "ac = AgglomerativeClustering(n_clusters=3, \n",
    "                             affinity='euclidean', \n",
    "                             linkage='complete')\n",
    "labels = ac.fit_predict(X)\n",
    "print('Cluster labels: %s' % labels)"
   ]
  },
  {
   "cell_type": "code",
   "execution_count": 391,
   "id": "aac9a29d",
   "metadata": {},
   "outputs": [
    {
     "data": {
      "image/png": "[encoded data removed]",
      "text/plain": [
       "<Figure size 432x288 with 1 Axes>"
      ]
     },
     "metadata": {
      "needs_background": "light"
     },
     "output_type": "display_data"
    }
   ],
   "source": [
    "cluster_labels = np.unique(y_km)\n",
    "n_clusters = cluster_labels.shape[0]\n",
    "silhouette_vals = silhouette_samples(X, labels, metric='euclidean')\n",
    "y_ax_lower, y_ax_upper = 0, 0\n",
    "yticks = []\n",
    "for i, c in enumerate(cluster_labels):\n",
    "    c_silhouette_vals = silhouette_vals[labels == c]\n",
    "    c_silhouette_vals.sort()\n",
    "    y_ax_upper += len(c_silhouette_vals)\n",
    "    color = cm.jet(float(i) / n_clusters)\n",
    "    plt.barh(range(y_ax_lower, y_ax_upper), c_silhouette_vals, height=1.0, \n",
    "             edgecolor='none', color=color)\n",
    "\n",
    "    yticks.append((y_ax_lower + y_ax_upper) / 2.)\n",
    "    y_ax_lower += len(c_silhouette_vals)\n",
    "    \n",
    "silhouette_avg = np.mean(silhouette_vals)\n",
    "plt.axvline(silhouette_avg, color=\"red\", linestyle=\"--\") \n",
    "\n",
    "plt.yticks(yticks, cluster_labels + 1)\n",
    "plt.ylabel('Cluster')\n",
    "plt.xlabel('Silhouette coefficient')\n",
    "\n",
    "plt.tight_layout()\n",
    "plt.show()"
   ]
  },
  {
   "cell_type": "markdown",
   "id": "cc17d5a5",
   "metadata": {},
   "source": [
    "Como podemos ver, el clustering jerarquizado no es mejor que K-means para agrupar los valores de todo el conjunto."
   ]
  },
  {
   "cell_type": "code",
   "execution_count": null,
   "id": "329d12af",
   "metadata": {},
   "outputs": [],
   "source": []
  }
 ],
 "metadata": {
  "kernelspec": {
   "display_name": "Python 3",
   "language": "python",
   "name": "python3"
  },
  "language_info": {
   "codemirror_mode": {
    "name": "ipython",
    "version": 3
   },
   "file_extension": ".py",
   "mimetype": "text/x-python",
   "name": "python",
   "nbconvert_exporter": "python",
   "pygments_lexer": "ipython3",
   "version": "3.8.2"
  }
 },
 "nbformat": 4,
 "nbformat_minor": 5
}
